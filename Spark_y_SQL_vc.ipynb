{
  "cells": [
    {
      "cell_type": "markdown",
      "source": [
        "**Fundamento de apache spark**\n",
        "\n",
        "**Nombre:** Victor Cabrera\n",
        "\n",
        "**Materia:** Marcos de referencia para Big Data\n",
        "\n",
        "**Docente:** Veronica Chimbo"
      ],
      "metadata": {
        "id": "jbqhiFbpOKip"
      },
      "id": "jbqhiFbpOKip"
    },
    {
      "cell_type": "code",
      "execution_count": 1,
      "id": "4b16ef47",
      "metadata": {
        "colab": {
          "base_uri": "https://localhost:8080/"
        },
        "id": "4b16ef47",
        "outputId": "d5a1b35d-2fc3-4244-bf88-df72ef3b68f4"
      },
      "outputs": [
        {
          "output_type": "stream",
          "name": "stdout",
          "text": [
            "Collecting pyspark\n",
            "  Downloading pyspark-3.5.1.tar.gz (317.0 MB)\n",
            "\u001b[2K     \u001b[90m━━━━━━━━━━━━━━━━━━━━━━━━━━━━━━━━━━━━━━━━\u001b[0m \u001b[32m317.0/317.0 MB\u001b[0m \u001b[31m3.8 MB/s\u001b[0m eta \u001b[36m0:00:00\u001b[0m\n",
            "\u001b[?25h  Preparing metadata (setup.py) ... \u001b[?25l\u001b[?25hdone\n",
            "Requirement already satisfied: py4j==0.10.9.7 in /usr/local/lib/python3.10/dist-packages (from pyspark) (0.10.9.7)\n",
            "Building wheels for collected packages: pyspark\n",
            "  Building wheel for pyspark (setup.py) ... \u001b[?25l\u001b[?25hdone\n",
            "  Created wheel for pyspark: filename=pyspark-3.5.1-py2.py3-none-any.whl size=317488491 sha256=0ab08415c7e14deba39051ce57e4f285627fe5d8fd33128393ffeca431b0ddd1\n",
            "  Stored in directory: /root/.cache/pip/wheels/80/1d/60/2c256ed38dddce2fdd93be545214a63e02fbd8d74fb0b7f3a6\n",
            "Successfully built pyspark\n",
            "Installing collected packages: pyspark\n",
            "Successfully installed pyspark-3.5.1\n"
          ]
        }
      ],
      "source": [
        "!pip install pyspark"
      ]
    },
    {
      "cell_type": "code",
      "execution_count": 2,
      "id": "acba6f68",
      "metadata": {
        "colab": {
          "base_uri": "https://localhost:8080/"
        },
        "id": "acba6f68",
        "outputId": "df97ff0a-d222-4692-8af6-84b5eceb75d9"
      },
      "outputs": [
        {
          "output_type": "stream",
          "name": "stdout",
          "text": [
            "Collecting findspark\n",
            "  Downloading findspark-2.0.1-py2.py3-none-any.whl (4.4 kB)\n",
            "Installing collected packages: findspark\n",
            "Successfully installed findspark-2.0.1\n"
          ]
        }
      ],
      "source": [
        "!pip install findspark"
      ]
    },
    {
      "cell_type": "code",
      "execution_count": 3,
      "id": "659a3b6f",
      "metadata": {
        "id": "659a3b6f"
      },
      "outputs": [],
      "source": [
        "import findspark\n",
        "findspark.init()"
      ]
    },
    {
      "cell_type": "code",
      "source": [
        "import pandas as pd\n",
        "import pyspark"
      ],
      "metadata": {
        "id": "5DqP2OpWPEHq"
      },
      "id": "5DqP2OpWPEHq",
      "execution_count": 4,
      "outputs": []
    },
    {
      "cell_type": "code",
      "source": [
        "from pyspark.sql import SparkSession\n",
        "from pyspark.sql.functions import *"
      ],
      "metadata": {
        "id": "4VBtQXmgPPP9"
      },
      "id": "4VBtQXmgPPP9",
      "execution_count": 5,
      "outputs": []
    },
    {
      "cell_type": "code",
      "source": [
        "spark = SparkSession.builder.appName(\"example\").config(\"spark.serializer\", \"org.apache.spark.serializer.KryoSerializer\").getOrCreate()\n"
      ],
      "metadata": {
        "id": "E3_91t-zPDac"
      },
      "id": "E3_91t-zPDac",
      "execution_count": 6,
      "outputs": []
    },
    {
      "cell_type": "code",
      "source": [
        "spark"
      ],
      "metadata": {
        "colab": {
          "base_uri": "https://localhost:8080/",
          "height": 222
        },
        "id": "gfTn8zPmRf9q",
        "outputId": "9d554097-5afa-4299-c1fd-f1753d306130"
      },
      "id": "gfTn8zPmRf9q",
      "execution_count": 7,
      "outputs": [
        {
          "output_type": "execute_result",
          "data": {
            "text/plain": [
              "<pyspark.sql.session.SparkSession at 0x7f4d06a54c40>"
            ],
            "text/html": [
              "\n",
              "            <div>\n",
              "                <p><b>SparkSession - in-memory</b></p>\n",
              "                \n",
              "        <div>\n",
              "            <p><b>SparkContext</b></p>\n",
              "\n",
              "            <p><a href=\"http://f2333ea0a5fd:4040\">Spark UI</a></p>\n",
              "\n",
              "            <dl>\n",
              "              <dt>Version</dt>\n",
              "                <dd><code>v3.5.1</code></dd>\n",
              "              <dt>Master</dt>\n",
              "                <dd><code>local[*]</code></dd>\n",
              "              <dt>AppName</dt>\n",
              "                <dd><code>example</code></dd>\n",
              "            </dl>\n",
              "        </div>\n",
              "        \n",
              "            </div>\n",
              "        "
            ]
          },
          "metadata": {},
          "execution_count": 7
        }
      ]
    },
    {
      "cell_type": "markdown",
      "source": [
        "# Crear el dataframe"
      ],
      "metadata": {
        "id": "0O_4n4abQb5U"
      },
      "id": "0O_4n4abQb5U"
    },
    {
      "cell_type": "code",
      "source": [
        "emp = [(1, \"AAA\", \"dept1\", 1000),\n",
        "(2, \"BBB\", \"dept1\", 1100),\n",
        "(3, \"CCC\", \"dept1\", 3000),\n",
        "(4, \"DDD\", \"dept1\", 1500),\n",
        "(5, \"EEE\", \"dept2\", 8000),\n",
        "(6, \"FFF\", \"dept2\", 7200),\n",
        "(7, \"GGG\", \"dept3\", 7100),\n",
        "(8, \"HHH\", \"dept3\", 3700),\n",
        "(9, \"III\", \"dept3\", 4500),\n",
        "(10, \"JJJ\", \"dept5\", 3400)]\n",
        "\n",
        "dept=[(\"dept1\", \"Deparment-1\"),\n",
        "(\"dept2\", \"Deparment-2\"),\n",
        "(\"dept3\", \"Deparment-3\"),\n",
        "(\"dept4\", \"Deparment-4\")]\n",
        "df=spark.createDataFrame(emp,[\"id\", \"name\", \"dept\", \"salary\"])\n",
        "deptdf=spark.createDataFrame(dept, [\"id\", \"name\"])\n"
      ],
      "metadata": {
        "id": "RgFGWMD_P91a"
      },
      "id": "RgFGWMD_P91a",
      "execution_count": 8,
      "outputs": []
    },
    {
      "cell_type": "code",
      "source": [
        "df.show()"
      ],
      "metadata": {
        "colab": {
          "base_uri": "https://localhost:8080/"
        },
        "id": "2W6n6LYnS8cg",
        "outputId": "d72446af-862a-472c-c3c6-5ef75425a82c"
      },
      "id": "2W6n6LYnS8cg",
      "execution_count": 9,
      "outputs": [
        {
          "output_type": "stream",
          "name": "stdout",
          "text": [
            "+---+----+-----+------+\n",
            "| id|name| dept|salary|\n",
            "+---+----+-----+------+\n",
            "|  1| AAA|dept1|  1000|\n",
            "|  2| BBB|dept1|  1100|\n",
            "|  3| CCC|dept1|  3000|\n",
            "|  4| DDD|dept1|  1500|\n",
            "|  5| EEE|dept2|  8000|\n",
            "|  6| FFF|dept2|  7200|\n",
            "|  7| GGG|dept3|  7100|\n",
            "|  8| HHH|dept3|  3700|\n",
            "|  9| III|dept3|  4500|\n",
            "| 10| JJJ|dept5|  3400|\n",
            "+---+----+-----+------+\n",
            "\n"
          ]
        }
      ]
    },
    {
      "cell_type": "markdown",
      "source": [
        "Operaciones basicas\n",
        "\n",
        "Cuenta el numero de filas"
      ],
      "metadata": {
        "id": "7rmAcyjnTJ7j"
      },
      "id": "7rmAcyjnTJ7j"
    },
    {
      "cell_type": "code",
      "execution_count": 10,
      "id": "714e7c19",
      "metadata": {
        "colab": {
          "base_uri": "https://localhost:8080/"
        },
        "id": "714e7c19",
        "outputId": "b7d59c24-aae9-412f-bb7d-9d46a6d23a64"
      },
      "outputs": [
        {
          "output_type": "execute_result",
          "data": {
            "text/plain": [
              "10"
            ]
          },
          "metadata": {},
          "execution_count": 10
        }
      ],
      "source": [
        "df.count()"
      ]
    },
    {
      "cell_type": "code",
      "source": [
        "deptdf.count()"
      ],
      "metadata": {
        "colab": {
          "base_uri": "https://localhost:8080/"
        },
        "id": "oq-WUnaDTZkF",
        "outputId": "5ad88e18-0112-4d37-8484-cc7e71d93f44"
      },
      "id": "oq-WUnaDTZkF",
      "execution_count": 11,
      "outputs": [
        {
          "output_type": "execute_result",
          "data": {
            "text/plain": [
              "4"
            ]
          },
          "metadata": {},
          "execution_count": 11
        }
      ]
    },
    {
      "cell_type": "markdown",
      "source": [
        "Ver columnas de nuestro dataframe"
      ],
      "metadata": {
        "id": "x3YnJpkbTcGL"
      },
      "id": "x3YnJpkbTcGL"
    },
    {
      "cell_type": "code",
      "source": [
        "df.columns"
      ],
      "metadata": {
        "colab": {
          "base_uri": "https://localhost:8080/"
        },
        "id": "OEqpBHqOTT-y",
        "outputId": "5d01119e-aa9a-45e9-8d07-c746c440cda0"
      },
      "id": "OEqpBHqOTT-y",
      "execution_count": 12,
      "outputs": [
        {
          "output_type": "execute_result",
          "data": {
            "text/plain": [
              "['id', 'name', 'dept', 'salary']"
            ]
          },
          "metadata": {},
          "execution_count": 12
        }
      ]
    },
    {
      "cell_type": "code",
      "source": [
        "deptdf.columns"
      ],
      "metadata": {
        "colab": {
          "base_uri": "https://localhost:8080/"
        },
        "id": "_bjR25oGTfHJ",
        "outputId": "4b6a297c-a95c-4726-a23c-489b7362a4fc"
      },
      "id": "_bjR25oGTfHJ",
      "execution_count": 13,
      "outputs": [
        {
          "output_type": "execute_result",
          "data": {
            "text/plain": [
              "['id', 'name']"
            ]
          },
          "metadata": {},
          "execution_count": 13
        }
      ]
    },
    {
      "cell_type": "markdown",
      "source": [
        "Ver el tipo de dato"
      ],
      "metadata": {
        "id": "4R84Sz2TTvYU"
      },
      "id": "4R84Sz2TTvYU"
    },
    {
      "cell_type": "code",
      "source": [
        "df.dtypes"
      ],
      "metadata": {
        "colab": {
          "base_uri": "https://localhost:8080/"
        },
        "id": "UteioVrlTkWx",
        "outputId": "3cb22482-6d6c-4210-ebe7-bf3aeb54de14"
      },
      "id": "UteioVrlTkWx",
      "execution_count": 14,
      "outputs": [
        {
          "output_type": "execute_result",
          "data": {
            "text/plain": [
              "[('id', 'bigint'),\n",
              " ('name', 'string'),\n",
              " ('dept', 'string'),\n",
              " ('salary', 'bigint')]"
            ]
          },
          "metadata": {},
          "execution_count": 14
        }
      ]
    },
    {
      "cell_type": "code",
      "source": [
        "deptdf.dtypes"
      ],
      "metadata": {
        "colab": {
          "base_uri": "https://localhost:8080/"
        },
        "id": "9k4Zg3-ATyHG",
        "outputId": "90d13316-a89e-4ef6-d3a3-c2c6e3f74d34"
      },
      "id": "9k4Zg3-ATyHG",
      "execution_count": 15,
      "outputs": [
        {
          "output_type": "execute_result",
          "data": {
            "text/plain": [
              "[('id', 'string'), ('name', 'string')]"
            ]
          },
          "metadata": {},
          "execution_count": 15
        }
      ]
    },
    {
      "cell_type": "markdown",
      "source": [
        "Schema\n",
        "\n",
        "Comprueba como spark almacena el esquema del DataFRame"
      ],
      "metadata": {
        "id": "9sEyDCnYT12Y"
      },
      "id": "9sEyDCnYT12Y"
    },
    {
      "cell_type": "code",
      "source": [
        "df.schema"
      ],
      "metadata": {
        "colab": {
          "base_uri": "https://localhost:8080/"
        },
        "id": "f20qmvU_T1SO",
        "outputId": "46c7d4b8-c70e-4b6c-d514-bf3e8d3af4a9"
      },
      "id": "f20qmvU_T1SO",
      "execution_count": 16,
      "outputs": [
        {
          "output_type": "execute_result",
          "data": {
            "text/plain": [
              "StructType([StructField('id', LongType(), True), StructField('name', StringType(), True), StructField('dept', StringType(), True), StructField('salary', LongType(), True)])"
            ]
          },
          "metadata": {},
          "execution_count": 16
        }
      ]
    },
    {
      "cell_type": "code",
      "source": [
        "deptdf.schema"
      ],
      "metadata": {
        "colab": {
          "base_uri": "https://localhost:8080/"
        },
        "id": "fIQa7QQ9T_B0",
        "outputId": "406ed403-651a-489a-fcbe-91945bb49722"
      },
      "id": "fIQa7QQ9T_B0",
      "execution_count": 17,
      "outputs": [
        {
          "output_type": "execute_result",
          "data": {
            "text/plain": [
              "StructType([StructField('id', StringType(), True), StructField('name', StringType(), True)])"
            ]
          },
          "metadata": {},
          "execution_count": 17
        }
      ]
    },
    {
      "cell_type": "markdown",
      "source": [
        "print schema"
      ],
      "metadata": {
        "id": "3-7eq7JYUGLE"
      },
      "id": "3-7eq7JYUGLE"
    },
    {
      "cell_type": "code",
      "source": [
        "df.printSchema"
      ],
      "metadata": {
        "colab": {
          "base_uri": "https://localhost:8080/",
          "height": 186
        },
        "id": "nogt-zv5UH6a",
        "outputId": "7417c57d-5e6d-41f6-aff6-f75ef75bf1c8"
      },
      "id": "nogt-zv5UH6a",
      "execution_count": 18,
      "outputs": [
        {
          "output_type": "execute_result",
          "data": {
            "text/plain": [
              "<bound method DataFrame.printSchema of DataFrame[id: bigint, name: string, dept: string, salary: bigint]>"
            ],
            "text/html": [
              "<div style=\"max-width:800px; border: 1px solid var(--colab-border-color);\"><style>\n",
              "      pre.function-repr-contents {\n",
              "        overflow-x: auto;\n",
              "        padding: 8px 12px;\n",
              "        max-height: 500px;\n",
              "      }\n",
              "\n",
              "      pre.function-repr-contents.function-repr-contents-collapsed {\n",
              "        cursor: pointer;\n",
              "        max-height: 100px;\n",
              "      }\n",
              "    </style>\n",
              "    <pre style=\"white-space: initial; background:\n",
              "         var(--colab-secondary-surface-color); padding: 8px 12px;\n",
              "         border-bottom: 1px solid var(--colab-border-color);\"><b>pyspark.sql.dataframe.DataFrame.printSchema</b><br/>def printSchema(level: Optional[int]=None) -&gt; None</pre><pre class=\"function-repr-contents function-repr-contents-collapsed\" style=\"\"><a class=\"filepath\" style=\"display:none\" href=\"#\">/usr/local/lib/python3.10/dist-packages/pyspark/sql/dataframe.py</a>Prints out the schema in the tree format.\n",
              "Optionally allows to specify how many levels to print if schema is nested.\n",
              "\n",
              ".. versionadded:: 1.3.0\n",
              "\n",
              ".. versionchanged:: 3.4.0\n",
              "    Supports Spark Connect.\n",
              "\n",
              "Parameters\n",
              "----------\n",
              "level : int, optional, default None\n",
              "    How many levels to print for nested schemas.\n",
              "\n",
              "    .. versionchanged:: 3.5.0\n",
              "        Added Level parameter.\n",
              "\n",
              "Examples\n",
              "--------\n",
              "&gt;&gt;&gt; df = spark.createDataFrame(\n",
              "...     [(14, &quot;Tom&quot;), (23, &quot;Alice&quot;), (16, &quot;Bob&quot;)], [&quot;age&quot;, &quot;name&quot;])\n",
              "&gt;&gt;&gt; df.printSchema()\n",
              "root\n",
              " |-- age: long (nullable = true)\n",
              " |-- name: string (nullable = true)\n",
              "\n",
              "&gt;&gt;&gt; df = spark.createDataFrame([(1, (2,2))], [&quot;a&quot;, &quot;b&quot;])\n",
              "&gt;&gt;&gt; df.printSchema(1)\n",
              "root\n",
              " |-- a: long (nullable = true)\n",
              " |-- b: struct (nullable = true)\n",
              "\n",
              "&gt;&gt;&gt; df.printSchema(2)\n",
              "root\n",
              " |-- a: long (nullable = true)\n",
              " |-- b: struct (nullable = true)\n",
              " |    |-- _1: long (nullable = true)\n",
              " |    |-- _2: long (nullable = true)</pre>\n",
              "      <script>\n",
              "      if (google.colab.kernel.accessAllowed && google.colab.files && google.colab.files.view) {\n",
              "        for (const element of document.querySelectorAll('.filepath')) {\n",
              "          element.style.display = 'block'\n",
              "          element.onclick = (event) => {\n",
              "            event.preventDefault();\n",
              "            event.stopPropagation();\n",
              "            google.colab.files.view(element.textContent, 581);\n",
              "          };\n",
              "        }\n",
              "      }\n",
              "      for (const element of document.querySelectorAll('.function-repr-contents')) {\n",
              "        element.onclick = (event) => {\n",
              "          event.preventDefault();\n",
              "          event.stopPropagation();\n",
              "          element.classList.toggle('function-repr-contents-collapsed');\n",
              "        };\n",
              "      }\n",
              "      </script>\n",
              "      </div>"
            ]
          },
          "metadata": {},
          "execution_count": 18
        }
      ]
    },
    {
      "cell_type": "code",
      "source": [
        "deptdf.printSchema"
      ],
      "metadata": {
        "colab": {
          "base_uri": "https://localhost:8080/",
          "height": 186
        },
        "id": "uSNV4RjvUPZp",
        "outputId": "a66c1560-9908-4d4d-e654-eacb4945b074"
      },
      "id": "uSNV4RjvUPZp",
      "execution_count": 19,
      "outputs": [
        {
          "output_type": "execute_result",
          "data": {
            "text/plain": [
              "<bound method DataFrame.printSchema of DataFrame[id: string, name: string]>"
            ],
            "text/html": [
              "<div style=\"max-width:800px; border: 1px solid var(--colab-border-color);\"><style>\n",
              "      pre.function-repr-contents {\n",
              "        overflow-x: auto;\n",
              "        padding: 8px 12px;\n",
              "        max-height: 500px;\n",
              "      }\n",
              "\n",
              "      pre.function-repr-contents.function-repr-contents-collapsed {\n",
              "        cursor: pointer;\n",
              "        max-height: 100px;\n",
              "      }\n",
              "    </style>\n",
              "    <pre style=\"white-space: initial; background:\n",
              "         var(--colab-secondary-surface-color); padding: 8px 12px;\n",
              "         border-bottom: 1px solid var(--colab-border-color);\"><b>pyspark.sql.dataframe.DataFrame.printSchema</b><br/>def printSchema(level: Optional[int]=None) -&gt; None</pre><pre class=\"function-repr-contents function-repr-contents-collapsed\" style=\"\"><a class=\"filepath\" style=\"display:none\" href=\"#\">/usr/local/lib/python3.10/dist-packages/pyspark/sql/dataframe.py</a>Prints out the schema in the tree format.\n",
              "Optionally allows to specify how many levels to print if schema is nested.\n",
              "\n",
              ".. versionadded:: 1.3.0\n",
              "\n",
              ".. versionchanged:: 3.4.0\n",
              "    Supports Spark Connect.\n",
              "\n",
              "Parameters\n",
              "----------\n",
              "level : int, optional, default None\n",
              "    How many levels to print for nested schemas.\n",
              "\n",
              "    .. versionchanged:: 3.5.0\n",
              "        Added Level parameter.\n",
              "\n",
              "Examples\n",
              "--------\n",
              "&gt;&gt;&gt; df = spark.createDataFrame(\n",
              "...     [(14, &quot;Tom&quot;), (23, &quot;Alice&quot;), (16, &quot;Bob&quot;)], [&quot;age&quot;, &quot;name&quot;])\n",
              "&gt;&gt;&gt; df.printSchema()\n",
              "root\n",
              " |-- age: long (nullable = true)\n",
              " |-- name: string (nullable = true)\n",
              "\n",
              "&gt;&gt;&gt; df = spark.createDataFrame([(1, (2,2))], [&quot;a&quot;, &quot;b&quot;])\n",
              "&gt;&gt;&gt; df.printSchema(1)\n",
              "root\n",
              " |-- a: long (nullable = true)\n",
              " |-- b: struct (nullable = true)\n",
              "\n",
              "&gt;&gt;&gt; df.printSchema(2)\n",
              "root\n",
              " |-- a: long (nullable = true)\n",
              " |-- b: struct (nullable = true)\n",
              " |    |-- _1: long (nullable = true)\n",
              " |    |-- _2: long (nullable = true)</pre>\n",
              "      <script>\n",
              "      if (google.colab.kernel.accessAllowed && google.colab.files && google.colab.files.view) {\n",
              "        for (const element of document.querySelectorAll('.filepath')) {\n",
              "          element.style.display = 'block'\n",
              "          element.onclick = (event) => {\n",
              "            event.preventDefault();\n",
              "            event.stopPropagation();\n",
              "            google.colab.files.view(element.textContent, 581);\n",
              "          };\n",
              "        }\n",
              "      }\n",
              "      for (const element of document.querySelectorAll('.function-repr-contents')) {\n",
              "        element.onclick = (event) => {\n",
              "          event.preventDefault();\n",
              "          event.stopPropagation();\n",
              "          element.classList.toggle('function-repr-contents-collapsed');\n",
              "        };\n",
              "      }\n",
              "      </script>\n",
              "      </div>"
            ]
          },
          "metadata": {},
          "execution_count": 19
        }
      ]
    },
    {
      "cell_type": "markdown",
      "source": [
        "Select\n",
        "\n",
        "Seleccionamos clumnas del DataFrame\n"
      ],
      "metadata": {
        "id": "mJ8RorxcUf3x"
      },
      "id": "mJ8RorxcUf3x"
    },
    {
      "cell_type": "code",
      "source": [
        "df.select(\"id\", \"name\").show()"
      ],
      "metadata": {
        "colab": {
          "base_uri": "https://localhost:8080/"
        },
        "id": "Hp8avZ_hUlmG",
        "outputId": "fa1bdcb3-ec66-4c85-bff9-8b0bad157a83"
      },
      "id": "Hp8avZ_hUlmG",
      "execution_count": 20,
      "outputs": [
        {
          "output_type": "stream",
          "name": "stdout",
          "text": [
            "+---+----+\n",
            "| id|name|\n",
            "+---+----+\n",
            "|  1| AAA|\n",
            "|  2| BBB|\n",
            "|  3| CCC|\n",
            "|  4| DDD|\n",
            "|  5| EEE|\n",
            "|  6| FFF|\n",
            "|  7| GGG|\n",
            "|  8| HHH|\n",
            "|  9| III|\n",
            "| 10| JJJ|\n",
            "+---+----+\n",
            "\n"
          ]
        }
      ]
    },
    {
      "cell_type": "code",
      "source": [
        "deptdf.select(\"name\").show()"
      ],
      "metadata": {
        "colab": {
          "base_uri": "https://localhost:8080/"
        },
        "id": "vgdTbpGPUz9P",
        "outputId": "8298f7b9-9166-4639-99d7-ecf41151b223"
      },
      "id": "vgdTbpGPUz9P",
      "execution_count": 21,
      "outputs": [
        {
          "output_type": "stream",
          "name": "stdout",
          "text": [
            "+-----------+\n",
            "|       name|\n",
            "+-----------+\n",
            "|Deparment-1|\n",
            "|Deparment-2|\n",
            "|Deparment-3|\n",
            "|Deparment-4|\n",
            "+-----------+\n",
            "\n"
          ]
        }
      ]
    },
    {
      "cell_type": "markdown",
      "source": [
        "Filter\n",
        "\n",
        "\n",
        "\n",
        "*   Filtrar las filas\n",
        "*   Intentamos encontrar filas con id=1.\n",
        "*   Hay diferentes formas de especificar la condicion.\n",
        "\n"
      ],
      "metadata": {
        "id": "KzVbE_1NU6vL"
      },
      "id": "KzVbE_1NU6vL"
    },
    {
      "cell_type": "code",
      "source": [
        "df.filter(df[\"id\"]==1).show()\n",
        "df.filter(df.id==1).show()"
      ],
      "metadata": {
        "colab": {
          "base_uri": "https://localhost:8080/"
        },
        "id": "b3qanDFSU6GL",
        "outputId": "98781602-253a-4204-bbf7-16d1792a5a5b"
      },
      "id": "b3qanDFSU6GL",
      "execution_count": 22,
      "outputs": [
        {
          "output_type": "stream",
          "name": "stdout",
          "text": [
            "+---+----+-----+------+\n",
            "| id|name| dept|salary|\n",
            "+---+----+-----+------+\n",
            "|  1| AAA|dept1|  1000|\n",
            "+---+----+-----+------+\n",
            "\n",
            "+---+----+-----+------+\n",
            "| id|name| dept|salary|\n",
            "+---+----+-----+------+\n",
            "|  1| AAA|dept1|  1000|\n",
            "+---+----+-----+------+\n",
            "\n"
          ]
        }
      ]
    },
    {
      "cell_type": "code",
      "source": [
        "deptdf.filter(deptdf.id==\"dept3\").show()"
      ],
      "metadata": {
        "colab": {
          "base_uri": "https://localhost:8080/"
        },
        "id": "sYizp5ODVl4i",
        "outputId": "aae28b43-fed2-494c-9224-ee1f310f7b84"
      },
      "id": "sYizp5ODVl4i",
      "execution_count": 23,
      "outputs": [
        {
          "output_type": "stream",
          "name": "stdout",
          "text": [
            "+-----+-----------+\n",
            "|   id|       name|\n",
            "+-----+-----------+\n",
            "|dept3|Deparment-3|\n",
            "+-----+-----------+\n",
            "\n"
          ]
        }
      ]
    },
    {
      "cell_type": "code",
      "source": [
        "df.filter(col(\"id\")==1).show()\n",
        "df.filter(\"id==1\").show()"
      ],
      "metadata": {
        "colab": {
          "base_uri": "https://localhost:8080/"
        },
        "id": "B9yG8yYCV4rL",
        "outputId": "b01bf577-579d-4094-a297-a68be0977742"
      },
      "id": "B9yG8yYCV4rL",
      "execution_count": 24,
      "outputs": [
        {
          "output_type": "stream",
          "name": "stdout",
          "text": [
            "+---+----+-----+------+\n",
            "| id|name| dept|salary|\n",
            "+---+----+-----+------+\n",
            "|  1| AAA|dept1|  1000|\n",
            "+---+----+-----+------+\n",
            "\n",
            "+---+----+-----+------+\n",
            "| id|name| dept|salary|\n",
            "+---+----+-----+------+\n",
            "|  1| AAA|dept1|  1000|\n",
            "+---+----+-----+------+\n",
            "\n"
          ]
        }
      ]
    },
    {
      "cell_type": "markdown",
      "source": [
        "drop\n",
        "\n",
        "Elimina una columna"
      ],
      "metadata": {
        "id": "4jQ1EBIcWfMG"
      },
      "id": "4jQ1EBIcWfMG"
    },
    {
      "cell_type": "code",
      "source": [
        "newdf=df.drop(\"id\")\n",
        "newdf.show(2)"
      ],
      "metadata": {
        "colab": {
          "base_uri": "https://localhost:8080/"
        },
        "id": "esaSSzlZWSB_",
        "outputId": "22bc2214-f66d-4030-96de-5dd369f29fca"
      },
      "id": "esaSSzlZWSB_",
      "execution_count": 25,
      "outputs": [
        {
          "output_type": "stream",
          "name": "stdout",
          "text": [
            "+----+-----+------+\n",
            "|name| dept|salary|\n",
            "+----+-----+------+\n",
            "| AAA|dept1|  1000|\n",
            "| BBB|dept1|  1100|\n",
            "+----+-----+------+\n",
            "only showing top 2 rows\n",
            "\n"
          ]
        }
      ]
    },
    {
      "cell_type": "code",
      "source": [
        "newdf=deptdf.drop(\"id\")\n",
        "newdf.show(2)"
      ],
      "metadata": {
        "colab": {
          "base_uri": "https://localhost:8080/"
        },
        "id": "mxGtflDVWx-g",
        "outputId": "b63ad9ba-ae80-4756-e090-c3129db6c189"
      },
      "id": "mxGtflDVWx-g",
      "execution_count": 26,
      "outputs": [
        {
          "output_type": "stream",
          "name": "stdout",
          "text": [
            "+-----------+\n",
            "|       name|\n",
            "+-----------+\n",
            "|Deparment-1|\n",
            "|Deparment-2|\n",
            "+-----------+\n",
            "only showing top 2 rows\n",
            "\n"
          ]
        }
      ]
    },
    {
      "cell_type": "markdown",
      "source": [
        "Usamos la funcion groupby para agrupar lo datos"
      ],
      "metadata": {
        "id": "bc5P48BBYE8G"
      },
      "id": "bc5P48BBYE8G"
    },
    {
      "cell_type": "code",
      "source": [
        "from pyspark.sql.functions import count, sum, avg, max, min"
      ],
      "metadata": {
        "id": "LoD_YTdqaTkP"
      },
      "id": "LoD_YTdqaTkP",
      "execution_count": 27,
      "outputs": []
    },
    {
      "cell_type": "code",
      "source": [
        "(df.groupBy(\"dept\") .agg(\n",
        "      count(\"salary\").alias(\"count\"),\n",
        "      sum(\"salary\").alias(\"sum\"),\n",
        "      avg(\"salary\").alias(\"avg\"),\n",
        "      max(\"salary\").alias(\"max\"),\n",
        "      min(\"salary\").alias(\"min\") ).show())"
      ],
      "metadata": {
        "colab": {
          "base_uri": "https://localhost:8080/"
        },
        "id": "pVyPtz64Zz4O",
        "outputId": "8b09b406-58f2-4f69-801a-5046cdd58680"
      },
      "id": "pVyPtz64Zz4O",
      "execution_count": 28,
      "outputs": [
        {
          "output_type": "stream",
          "name": "stdout",
          "text": [
            "+-----+-----+-----+------+----+----+\n",
            "| dept|count|  sum|   avg| max| min|\n",
            "+-----+-----+-----+------+----+----+\n",
            "|dept1|    4| 6600|1650.0|3000|1000|\n",
            "|dept2|    2|15200|7600.0|8000|7200|\n",
            "|dept5|    1| 3400|3400.0|3400|3400|\n",
            "|dept3|    3|15300|5100.0|7100|3700|\n",
            "+-----+-----+-----+------+----+----+\n",
            "\n"
          ]
        }
      ]
    },
    {
      "cell_type": "markdown",
      "source": [],
      "metadata": {
        "id": "zrx9OjgeaeCV"
      },
      "id": "zrx9OjgeaeCV"
    },
    {
      "cell_type": "code",
      "source": [
        "df.sort(\"salary\").show(5)"
      ],
      "metadata": {
        "colab": {
          "base_uri": "https://localhost:8080/"
        },
        "id": "h2R2LYpWY41t",
        "outputId": "21c8a81d-aefe-4087-8de5-cd6e6619e6c0"
      },
      "id": "h2R2LYpWY41t",
      "execution_count": 29,
      "outputs": [
        {
          "output_type": "stream",
          "name": "stdout",
          "text": [
            "+---+----+-----+------+\n",
            "| id|name| dept|salary|\n",
            "+---+----+-----+------+\n",
            "|  1| AAA|dept1|  1000|\n",
            "|  2| BBB|dept1|  1100|\n",
            "|  4| DDD|dept1|  1500|\n",
            "|  3| CCC|dept1|  3000|\n",
            "| 10| JJJ|dept5|  3400|\n",
            "+---+----+-----+------+\n",
            "only showing top 5 rows\n",
            "\n"
          ]
        }
      ]
    },
    {
      "cell_type": "code",
      "source": [
        "# Sort the data in descending order.\n",
        "df.sort(desc(\"salary\")).show(5)\n",
        "\n"
      ],
      "metadata": {
        "colab": {
          "base_uri": "https://localhost:8080/"
        },
        "id": "6VBgbTF_agh3",
        "outputId": "032db7a1-7685-4d33-ddff-9ae14120a9be"
      },
      "id": "6VBgbTF_agh3",
      "execution_count": 30,
      "outputs": [
        {
          "output_type": "stream",
          "name": "stdout",
          "text": [
            "+---+----+-----+------+\n",
            "| id|name| dept|salary|\n",
            "+---+----+-----+------+\n",
            "|  5| EEE|dept2|  8000|\n",
            "|  6| FFF|dept2|  7200|\n",
            "|  7| GGG|dept3|  7100|\n",
            "|  9| III|dept3|  4500|\n",
            "|  8| HHH|dept3|  3700|\n",
            "+---+----+-----+------+\n",
            "only showing top 5 rows\n",
            "\n"
          ]
        }
      ]
    },
    {
      "cell_type": "markdown",
      "source": [
        "Columnas derivadas\n",
        "\n",
        "Usaos la funcion \"withcolum\" para derivar"
      ],
      "metadata": {
        "id": "Ysd80IkYauTq"
      },
      "id": "Ysd80IkYauTq"
    },
    {
      "cell_type": "code",
      "source": [
        "df.withColumn(\"bonus\", col(\"salary\")* .5).show()"
      ],
      "metadata": {
        "colab": {
          "base_uri": "https://localhost:8080/"
        },
        "id": "naqEpIW1a1d1",
        "outputId": "0eb85373-7307-48d0-827c-a6ed33ade89b"
      },
      "id": "naqEpIW1a1d1",
      "execution_count": 31,
      "outputs": [
        {
          "output_type": "stream",
          "name": "stdout",
          "text": [
            "+---+----+-----+------+------+\n",
            "| id|name| dept|salary| bonus|\n",
            "+---+----+-----+------+------+\n",
            "|  1| AAA|dept1|  1000| 500.0|\n",
            "|  2| BBB|dept1|  1100| 550.0|\n",
            "|  3| CCC|dept1|  3000|1500.0|\n",
            "|  4| DDD|dept1|  1500| 750.0|\n",
            "|  5| EEE|dept2|  8000|4000.0|\n",
            "|  6| FFF|dept2|  7200|3600.0|\n",
            "|  7| GGG|dept3|  7100|3550.0|\n",
            "|  8| HHH|dept3|  3700|1850.0|\n",
            "|  9| III|dept3|  4500|2250.0|\n",
            "| 10| JJJ|dept5|  3400|1700.0|\n",
            "+---+----+-----+------+------+\n",
            "\n"
          ]
        }
      ]
    },
    {
      "cell_type": "markdown",
      "source": [
        "Joins"
      ],
      "metadata": {
        "id": "YFCQmnjvbNQt"
      },
      "id": "YFCQmnjvbNQt"
    },
    {
      "cell_type": "code",
      "source": [
        "# Inner JOIN.\n",
        "df.join(deptdf, df[\"dept\"] == deptdf[\"id\"]).show()"
      ],
      "metadata": {
        "colab": {
          "base_uri": "https://localhost:8080/"
        },
        "id": "xcsP-rn0bMKs",
        "outputId": "751f6635-61ae-4ed3-90b5-f560166ee69c"
      },
      "id": "xcsP-rn0bMKs",
      "execution_count": 32,
      "outputs": [
        {
          "output_type": "stream",
          "name": "stdout",
          "text": [
            "+---+----+-----+------+-----+-----------+\n",
            "| id|name| dept|salary|   id|       name|\n",
            "+---+----+-----+------+-----+-----------+\n",
            "|  1| AAA|dept1|  1000|dept1|Deparment-1|\n",
            "|  2| BBB|dept1|  1100|dept1|Deparment-1|\n",
            "|  3| CCC|dept1|  3000|dept1|Deparment-1|\n",
            "|  4| DDD|dept1|  1500|dept1|Deparment-1|\n",
            "|  5| EEE|dept2|  8000|dept2|Deparment-2|\n",
            "|  6| FFF|dept2|  7200|dept2|Deparment-2|\n",
            "|  7| GGG|dept3|  7100|dept3|Deparment-3|\n",
            "|  8| HHH|dept3|  3700|dept3|Deparment-3|\n",
            "|  9| III|dept3|  4500|dept3|Deparment-3|\n",
            "+---+----+-----+------+-----+-----------+\n",
            "\n"
          ]
        }
      ]
    },
    {
      "cell_type": "markdown",
      "source": [
        "right_outer"
      ],
      "metadata": {
        "id": "Z0rarcuwcVo3"
      },
      "id": "Z0rarcuwcVo3"
    },
    {
      "cell_type": "code",
      "source": [
        "df.join(deptdf, df[\"dept\"] == deptdf[\"id\"], \"right_outer\").show()"
      ],
      "metadata": {
        "colab": {
          "base_uri": "https://localhost:8080/"
        },
        "id": "MKNmQ_XecE7G",
        "outputId": "519b5a63-9aa8-41df-f7ac-f2c4655aadd1"
      },
      "id": "MKNmQ_XecE7G",
      "execution_count": 33,
      "outputs": [
        {
          "output_type": "stream",
          "name": "stdout",
          "text": [
            "+----+----+-----+------+-----+-----------+\n",
            "|  id|name| dept|salary|   id|       name|\n",
            "+----+----+-----+------+-----+-----------+\n",
            "|   4| DDD|dept1|  1500|dept1|Deparment-1|\n",
            "|   3| CCC|dept1|  3000|dept1|Deparment-1|\n",
            "|   2| BBB|dept1|  1100|dept1|Deparment-1|\n",
            "|   1| AAA|dept1|  1000|dept1|Deparment-1|\n",
            "|   6| FFF|dept2|  7200|dept2|Deparment-2|\n",
            "|   5| EEE|dept2|  8000|dept2|Deparment-2|\n",
            "|   9| III|dept3|  4500|dept3|Deparment-3|\n",
            "|   8| HHH|dept3|  3700|dept3|Deparment-3|\n",
            "|   7| GGG|dept3|  7100|dept3|Deparment-3|\n",
            "|NULL|NULL| NULL|  NULL|dept4|Deparment-4|\n",
            "+----+----+-----+------+-----+-----------+\n",
            "\n"
          ]
        }
      ]
    },
    {
      "cell_type": "markdown",
      "source": [
        "left_outer"
      ],
      "metadata": {
        "id": "sGbeotk2cn27"
      },
      "id": "sGbeotk2cn27"
    },
    {
      "cell_type": "code",
      "source": [
        "df.join(deptdf, df[\"dept\"] == deptdf[\"id\"], \"left_outer\").show()\n",
        "\n"
      ],
      "metadata": {
        "colab": {
          "base_uri": "https://localhost:8080/"
        },
        "id": "hYXA5qqTcY9S",
        "outputId": "8dda5a4b-cf93-41ef-982c-c71fe1635922"
      },
      "id": "hYXA5qqTcY9S",
      "execution_count": 34,
      "outputs": [
        {
          "output_type": "stream",
          "name": "stdout",
          "text": [
            "+---+----+-----+------+-----+-----------+\n",
            "| id|name| dept|salary|   id|       name|\n",
            "+---+----+-----+------+-----+-----------+\n",
            "|  1| AAA|dept1|  1000|dept1|Deparment-1|\n",
            "|  2| BBB|dept1|  1100|dept1|Deparment-1|\n",
            "|  3| CCC|dept1|  3000|dept1|Deparment-1|\n",
            "|  4| DDD|dept1|  1500|dept1|Deparment-1|\n",
            "|  5| EEE|dept2|  8000|dept2|Deparment-2|\n",
            "| 10| JJJ|dept5|  3400| NULL|       NULL|\n",
            "|  7| GGG|dept3|  7100|dept3|Deparment-3|\n",
            "|  8| HHH|dept3|  3700|dept3|Deparment-3|\n",
            "|  9| III|dept3|  4500|dept3|Deparment-3|\n",
            "|  6| FFF|dept2|  7200|dept2|Deparment-2|\n",
            "+---+----+-----+------+-----+-----------+\n",
            "\n"
          ]
        }
      ]
    },
    {
      "cell_type": "markdown",
      "source": [
        "outer"
      ],
      "metadata": {
        "id": "Nt_Z2SGbcsvQ"
      },
      "id": "Nt_Z2SGbcsvQ"
    },
    {
      "cell_type": "code",
      "source": [
        "df.join(deptdf, df[\"dept\"] == deptdf[\"id\"], \"outer\").show()\n",
        "\n"
      ],
      "metadata": {
        "colab": {
          "base_uri": "https://localhost:8080/"
        },
        "id": "_zhwMNSycrd3",
        "outputId": "2c1259b6-7eb8-4def-fe55-d13efc2d334b"
      },
      "id": "_zhwMNSycrd3",
      "execution_count": 35,
      "outputs": [
        {
          "output_type": "stream",
          "name": "stdout",
          "text": [
            "+----+----+-----+------+-----+-----------+\n",
            "|  id|name| dept|salary|   id|       name|\n",
            "+----+----+-----+------+-----+-----------+\n",
            "|   1| AAA|dept1|  1000|dept1|Deparment-1|\n",
            "|   2| BBB|dept1|  1100|dept1|Deparment-1|\n",
            "|   3| CCC|dept1|  3000|dept1|Deparment-1|\n",
            "|   4| DDD|dept1|  1500|dept1|Deparment-1|\n",
            "|   5| EEE|dept2|  8000|dept2|Deparment-2|\n",
            "|   6| FFF|dept2|  7200|dept2|Deparment-2|\n",
            "|   7| GGG|dept3|  7100|dept3|Deparment-3|\n",
            "|   8| HHH|dept3|  3700|dept3|Deparment-3|\n",
            "|   9| III|dept3|  4500|dept3|Deparment-3|\n",
            "|NULL|NULL| NULL|  NULL|dept4|Deparment-4|\n",
            "|  10| JJJ|dept5|  3400| NULL|       NULL|\n",
            "+----+----+-----+------+-----+-----------+\n",
            "\n"
          ]
        }
      ]
    },
    {
      "cell_type": "code",
      "source": [
        "# Register DataFrame as Temporary Table\n",
        "df.createOrReplaceTempView(\"temp_table\")\n",
        "# Execute SQL-Like query.\n",
        "spark.sql(\"select * from temp_table where id = 3\").show()\n",
        "\n"
      ],
      "metadata": {
        "colab": {
          "base_uri": "https://localhost:8080/"
        },
        "id": "yQhV0Qcnct76",
        "outputId": "b6b3f434-08a0-49a3-abb9-4601a6e6e34d"
      },
      "id": "yQhV0Qcnct76",
      "execution_count": 36,
      "outputs": [
        {
          "output_type": "stream",
          "name": "stdout",
          "text": [
            "+---+----+-----+------+\n",
            "| id|name| dept|salary|\n",
            "+---+----+-----+------+\n",
            "|  3| CCC|dept1|  3000|\n",
            "+---+----+-----+------+\n",
            "\n"
          ]
        }
      ]
    },
    {
      "cell_type": "code",
      "source": [
        "spark.sql(\"select distinct id from temp_table\").show(10)\n",
        "\n"
      ],
      "metadata": {
        "colab": {
          "base_uri": "https://localhost:8080/"
        },
        "id": "e443wKfWdFPv",
        "outputId": "b5bcda41-8a9c-45e6-db47-1d7dfe0ee07d"
      },
      "id": "e443wKfWdFPv",
      "execution_count": 37,
      "outputs": [
        {
          "output_type": "stream",
          "name": "stdout",
          "text": [
            "+---+\n",
            "| id|\n",
            "+---+\n",
            "|  5|\n",
            "|  1|\n",
            "|  3|\n",
            "|  2|\n",
            "|  4|\n",
            "|  7|\n",
            "|  6|\n",
            "|  9|\n",
            "| 10|\n",
            "|  8|\n",
            "+---+\n",
            "\n"
          ]
        }
      ]
    },
    {
      "cell_type": "code",
      "source": [
        "spark.sql(\"select * from temp_table where salary >= 1500\").show(10)"
      ],
      "metadata": {
        "colab": {
          "base_uri": "https://localhost:8080/"
        },
        "id": "4wrZdTXrdLrh",
        "outputId": "dca88e72-0449-49e2-f784-df029bbc1f20"
      },
      "id": "4wrZdTXrdLrh",
      "execution_count": 38,
      "outputs": [
        {
          "output_type": "stream",
          "name": "stdout",
          "text": [
            "+---+----+-----+------+\n",
            "| id|name| dept|salary|\n",
            "+---+----+-----+------+\n",
            "|  3| CCC|dept1|  3000|\n",
            "|  4| DDD|dept1|  1500|\n",
            "|  5| EEE|dept2|  8000|\n",
            "|  6| FFF|dept2|  7200|\n",
            "|  7| GGG|dept3|  7100|\n",
            "|  8| HHH|dept3|  3700|\n",
            "|  9| III|dept3|  4500|\n",
            "| 10| JJJ|dept5|  3400|\n",
            "+---+----+-----+------+\n",
            "\n"
          ]
        }
      ]
    },
    {
      "cell_type": "markdown",
      "source": [
        "Guardar un dataframe como un archivo CSV"
      ],
      "metadata": {
        "id": "WgJH42ArdfD0"
      },
      "id": "WgJH42ArdfD0"
    },
    {
      "cell_type": "code",
      "source": [
        "df.coalesce(1).write.format(\"csv\").option(\"header\", \"true\").option(\"delimiter\", \";\").save(\"clientes1\")"
      ],
      "metadata": {
        "id": "cRRBFaiud9eF"
      },
      "id": "cRRBFaiud9eF",
      "execution_count": 39,
      "outputs": []
    },
    {
      "cell_type": "markdown",
      "source": [
        "# Practica 1"
      ],
      "metadata": {
        "id": "RDxApo6_e9sT"
      },
      "id": "RDxApo6_e9sT"
    },
    {
      "cell_type": "code",
      "source": [
        "from pyspark.sql.types import StructField, StringType, IntegerType"
      ],
      "metadata": {
        "id": "I-whF57ejfYh"
      },
      "id": "I-whF57ejfYh",
      "execution_count": 40,
      "outputs": []
    },
    {
      "cell_type": "markdown",
      "source": [
        "Creammos los esquemas o las tablas"
      ],
      "metadata": {
        "id": "RaFj3Pa9k6lk"
      },
      "id": "RaFj3Pa9k6lk"
    },
    {
      "cell_type": "code",
      "source": [
        "# define el esquema de las tablas\n",
        "persona_schema = StructType([\n",
        "StructField(\"idpersona\", IntegerType(), nullable=False),\n",
        "StructField(\"nombre\", StringType(), nullable=False),\n",
        "StructField(\"apellido\", StringType(), nullable=False),\n",
        "StructField(\"cedula\", StringType(), nullable=False),\n",
        "StructField(\"celular\", StringType(), nullable=False),\n",
        "])\n",
        "\n",
        "materia_schema = StructType([\n",
        "StructField(\"idmateria\", IntegerType(), nullable=False),\n",
        "StructField(\"nombre\", StringType(), nullable=False),\n",
        "StructField(\"num_horas\", StringType(), nullable=False)\n",
        "])\n",
        "\n",
        "curso_schema = StructType([\n",
        "StructField(\"idcurso\", IntegerType(), nullable=False),\n",
        "StructField(\"idpersona\", IntegerType(), nullable=False),\n",
        "StructField(\"idmateria\", IntegerType(), nullable=False),\n",
        "StructField(\"nombre\", StringType(), nullable=False),\n",
        "StructField(\"nota\", StringType(), nullable=False)])"
      ],
      "metadata": {
        "id": "vPaeXuY3fAcX"
      },
      "id": "vPaeXuY3fAcX",
      "execution_count": 41,
      "outputs": []
    },
    {
      "cell_type": "markdown",
      "source": [
        "Insertamos datos necesarios en cada una de las tablas"
      ],
      "metadata": {
        "id": "3oLkZIDSk_op"
      },
      "id": "3oLkZIDSk_op"
    },
    {
      "cell_type": "code",
      "source": [
        "persona_data = [\n",
        "(1, \"Victor\", \"Cabrera\", \"0107973687\", \"0993118236\"),\n",
        "(2, \"Maicol\", \"Lojano\", \"1401416993\", \"0994806071\"),\n",
        "(3, \"Ariel\", \"Saquicela\", \"0107973451\", \"0993328231\"),\n",
        "(4, \"Paul\", \"Rodriguez\", \"0103975687\", \"0983118245\"),\n",
        "(5, \"Danny\", \"Auquilla\", \"0107993682\", \"0973118229\"),\n",
        "]"
      ],
      "metadata": {
        "id": "mAFV0MSTjvjx"
      },
      "id": "mAFV0MSTjvjx",
      "execution_count": 42,
      "outputs": []
    },
    {
      "cell_type": "code",
      "source": [
        "materia_data = [\n",
        "(1, \"Aprendizaje Profundo\", \"3\"),\n",
        "(2, \"Marcos de Referencia para Big Data\", \"4\"),\n",
        "(3, \"Mineria de Datos\", \"2\"),\n",
        "(4, \"Inteligencia de Negocios\", \"2\"),\n",
        "(5, \"Etica Profesional\", \"1\"),\n",
        "(6, \"Emprendimiento\", \"2\")\n",
        "]"
      ],
      "metadata": {
        "id": "pUt_J6RXjwqd"
      },
      "id": "pUt_J6RXjwqd",
      "execution_count": 43,
      "outputs": []
    },
    {
      "cell_type": "code",
      "source": [
        "curso_data = [\n",
        "    (1, 1, 1, \"M3A\", \"9.06\"),\n",
        "    (2, 2, 2, \"M3A\", \"8.27\"),\n",
        "    (3, 3, 3, \"M3A\", \"7.59\"),\n",
        "    (4, 4, 4, \"M3A\", \"6.30\"),\n",
        "    (5, 5, 5, \"M3A\", \"7.21\"),\n",
        "    (6, 6, 6, \"M3A\", \"8.20\"),\n",
        "    (7, 1, 1, \"M3A\", \"7.06\"),\n",
        "    (8, 2, 2, \"M3A\", \"6.27\"),\n",
        "    (9, 3, 3, \"M3A\", \"8.59\"),\n",
        "    (10, 4, 4, \"M3A\", \"9.30\"),\n",
        "    (11, 5, 5, \"M3A\", \"7.21\"),\n",
        "    (12, 6, 6, \"M3A\", \"8.20\"),\n",
        "    (13, 1, 1, \"M3A\", \"6.06\"),\n",
        "    (14, 2, 2, \"M3A\", \"7.27\"),\n",
        "    (15, 3, 3, \"M3A\", \"8.59\"),\n",
        "    (16, 4, 4, \"M3A\", \"9.30\"),\n",
        "    (17, 5, 5, \"M3A\", \"6.21\"),\n",
        "    (18, 6, 6, \"M3A\", \"7.20\"),\n",
        "    (19, 1, 1, \"M3A\", \"8.06\"),\n",
        "    (20, 2, 2, \"M3A\", \"7.27\"),\n",
        "    (21, 3, 3, \"M3A\", \"8.59\"),\n",
        "    (22, 4, 4, \"M3A\", \"7.30\"),\n",
        "    (23, 5, 5, \"M3A\", \"8.21\"),\n",
        "    (24, 6, 6, \"M3A\", \"7.20\"),\n",
        "    (25, 1, 1, \"M3A\", \"8.06\"),\n",
        "    (26, 2, 2, \"M3A\", \"9.27\"),\n",
        "    (27, 3, 3, \"M3A\", \"8.59\"),\n",
        "    (28, 4, 4, \"M3A\", \"7.30\"),\n",
        "    (29, 5, 5, \"M3A\", \"9.21\"),\n",
        "    (30, 6, 6, \"M3A\", \"8.20\"),\n",
        "]"
      ],
      "metadata": {
        "id": "DH-gjvR_c8cI"
      },
      "id": "DH-gjvR_c8cI",
      "execution_count": 44,
      "outputs": []
    },
    {
      "cell_type": "code",
      "source": [
        "df_persona = spark.createDataFrame(persona_data, schema=persona_schema)\n",
        "df_materia = spark.createDataFrame(materia_data, schema=materia_schema)\n",
        "df_curso = spark.createDataFrame(curso_data, schema=curso_schema)"
      ],
      "metadata": {
        "id": "cDoWLtd_ibJw"
      },
      "id": "cDoWLtd_ibJw",
      "execution_count": 45,
      "outputs": []
    },
    {
      "cell_type": "code",
      "source": [
        "df_persona.printSchema()\n",
        "df_persona.show()"
      ],
      "metadata": {
        "colab": {
          "base_uri": "https://localhost:8080/"
        },
        "id": "w6mqaXdAn9NC",
        "outputId": "ede431dc-ad8e-413f-a07d-91f2caba6ad7"
      },
      "id": "w6mqaXdAn9NC",
      "execution_count": 46,
      "outputs": [
        {
          "output_type": "stream",
          "name": "stdout",
          "text": [
            "root\n",
            " |-- idpersona: integer (nullable = false)\n",
            " |-- nombre: string (nullable = false)\n",
            " |-- apellido: string (nullable = false)\n",
            " |-- cedula: string (nullable = false)\n",
            " |-- celular: string (nullable = false)\n",
            "\n",
            "+---------+------+---------+----------+----------+\n",
            "|idpersona|nombre| apellido|    cedula|   celular|\n",
            "+---------+------+---------+----------+----------+\n",
            "|        1|Victor|  Cabrera|0107973687|0993118236|\n",
            "|        2|Maicol|   Lojano|1401416993|0994806071|\n",
            "|        3| Ariel|Saquicela|0107973451|0993328231|\n",
            "|        4|  Paul|Rodriguez|0103975687|0983118245|\n",
            "|        5| Danny| Auquilla|0107993682|0973118229|\n",
            "+---------+------+---------+----------+----------+\n",
            "\n"
          ]
        }
      ]
    },
    {
      "cell_type": "code",
      "source": [
        "df_persona.count()"
      ],
      "metadata": {
        "colab": {
          "base_uri": "https://localhost:8080/"
        },
        "id": "sXpr43Ay3i27",
        "outputId": "cde36d42-aacf-4f6c-fafd-240f4cce6505"
      },
      "id": "sXpr43Ay3i27",
      "execution_count": 47,
      "outputs": [
        {
          "output_type": "execute_result",
          "data": {
            "text/plain": [
              "5"
            ]
          },
          "metadata": {},
          "execution_count": 47
        }
      ]
    },
    {
      "cell_type": "code",
      "source": [
        "df_materia.count()"
      ],
      "metadata": {
        "colab": {
          "base_uri": "https://localhost:8080/"
        },
        "id": "CzXuHoTl3nTz",
        "outputId": "e1e3cd14-fa69-4d88-a208-c44862b6943f"
      },
      "id": "CzXuHoTl3nTz",
      "execution_count": 48,
      "outputs": [
        {
          "output_type": "execute_result",
          "data": {
            "text/plain": [
              "6"
            ]
          },
          "metadata": {},
          "execution_count": 48
        }
      ]
    },
    {
      "cell_type": "code",
      "source": [
        "df_curso.count()"
      ],
      "metadata": {
        "colab": {
          "base_uri": "https://localhost:8080/"
        },
        "id": "p6Zz1aWQ3v3H",
        "outputId": "42faa8cc-62bf-4f69-d267-73258ef20f82"
      },
      "id": "p6Zz1aWQ3v3H",
      "execution_count": 49,
      "outputs": [
        {
          "output_type": "execute_result",
          "data": {
            "text/plain": [
              "30"
            ]
          },
          "metadata": {},
          "execution_count": 49
        }
      ]
    },
    {
      "cell_type": "code",
      "source": [
        "df_materia.printSchema()\n",
        "df_materia.show()"
      ],
      "metadata": {
        "colab": {
          "base_uri": "https://localhost:8080/"
        },
        "id": "P-_QNhoNoHhv",
        "outputId": "6ef99bf0-eeee-4f24-d502-d08cc59d950d"
      },
      "id": "P-_QNhoNoHhv",
      "execution_count": 50,
      "outputs": [
        {
          "output_type": "stream",
          "name": "stdout",
          "text": [
            "root\n",
            " |-- idmateria: integer (nullable = false)\n",
            " |-- nombre: string (nullable = false)\n",
            " |-- num_horas: string (nullable = false)\n",
            "\n",
            "+---------+--------------------+---------+\n",
            "|idmateria|              nombre|num_horas|\n",
            "+---------+--------------------+---------+\n",
            "|        1|Aprendizaje Profundo|        3|\n",
            "|        2|Marcos de Referen...|        4|\n",
            "|        3|    Mineria de Datos|        2|\n",
            "|        4|Inteligencia de N...|        2|\n",
            "|        5|   Etica Profesional|        1|\n",
            "|        6|      Emprendimiento|        2|\n",
            "+---------+--------------------+---------+\n",
            "\n"
          ]
        }
      ]
    },
    {
      "cell_type": "code",
      "source": [
        "df_curso.printSchema()\n",
        "df_curso.show()"
      ],
      "metadata": {
        "colab": {
          "base_uri": "https://localhost:8080/"
        },
        "id": "a4eSf71uoVL6",
        "outputId": "87f37d9e-94f0-40eb-9a19-02149c990def"
      },
      "id": "a4eSf71uoVL6",
      "execution_count": 51,
      "outputs": [
        {
          "output_type": "stream",
          "name": "stdout",
          "text": [
            "root\n",
            " |-- idcurso: integer (nullable = false)\n",
            " |-- idpersona: integer (nullable = false)\n",
            " |-- idmateria: integer (nullable = false)\n",
            " |-- nombre: string (nullable = false)\n",
            " |-- nota: string (nullable = false)\n",
            "\n",
            "+-------+---------+---------+------+----+\n",
            "|idcurso|idpersona|idmateria|nombre|nota|\n",
            "+-------+---------+---------+------+----+\n",
            "|      1|        1|        1|   M3A|9.06|\n",
            "|      2|        2|        2|   M3A|8.27|\n",
            "|      3|        3|        3|   M3A|7.59|\n",
            "|      4|        4|        4|   M3A|6.30|\n",
            "|      5|        5|        5|   M3A|7.21|\n",
            "|      6|        6|        6|   M3A|8.20|\n",
            "|      7|        1|        1|   M3A|7.06|\n",
            "|      8|        2|        2|   M3A|6.27|\n",
            "|      9|        3|        3|   M3A|8.59|\n",
            "|     10|        4|        4|   M3A|9.30|\n",
            "|     11|        5|        5|   M3A|7.21|\n",
            "|     12|        6|        6|   M3A|8.20|\n",
            "|     13|        1|        1|   M3A|6.06|\n",
            "|     14|        2|        2|   M3A|7.27|\n",
            "|     15|        3|        3|   M3A|8.59|\n",
            "|     16|        4|        4|   M3A|9.30|\n",
            "|     17|        5|        5|   M3A|6.21|\n",
            "|     18|        6|        6|   M3A|7.20|\n",
            "|     19|        1|        1|   M3A|8.06|\n",
            "|     20|        2|        2|   M3A|7.27|\n",
            "+-------+---------+---------+------+----+\n",
            "only showing top 20 rows\n",
            "\n"
          ]
        }
      ]
    },
    {
      "cell_type": "code",
      "source": [
        "df_persona.dtypes"
      ],
      "metadata": {
        "colab": {
          "base_uri": "https://localhost:8080/"
        },
        "id": "2fAmzHy637aF",
        "outputId": "cea5fb43-77c2-4d04-8281-70ddc0a9ab81"
      },
      "id": "2fAmzHy637aF",
      "execution_count": 52,
      "outputs": [
        {
          "output_type": "execute_result",
          "data": {
            "text/plain": [
              "[('idpersona', 'int'),\n",
              " ('nombre', 'string'),\n",
              " ('apellido', 'string'),\n",
              " ('cedula', 'string'),\n",
              " ('celular', 'string')]"
            ]
          },
          "metadata": {},
          "execution_count": 52
        }
      ]
    },
    {
      "cell_type": "code",
      "source": [
        "df_materia.dtypes"
      ],
      "metadata": {
        "colab": {
          "base_uri": "https://localhost:8080/"
        },
        "id": "TpswNb8f3_uv",
        "outputId": "c2febc93-0eae-4756-aedd-0dabf7580759"
      },
      "id": "TpswNb8f3_uv",
      "execution_count": 53,
      "outputs": [
        {
          "output_type": "execute_result",
          "data": {
            "text/plain": [
              "[('idmateria', 'int'), ('nombre', 'string'), ('num_horas', 'string')]"
            ]
          },
          "metadata": {},
          "execution_count": 53
        }
      ]
    },
    {
      "cell_type": "code",
      "source": [
        "df_curso.dtypes"
      ],
      "metadata": {
        "colab": {
          "base_uri": "https://localhost:8080/"
        },
        "id": "A5zJUOcJ4D1v",
        "outputId": "c1dfc853-a544-4a7d-891b-cafb530b2086"
      },
      "id": "A5zJUOcJ4D1v",
      "execution_count": 54,
      "outputs": [
        {
          "output_type": "execute_result",
          "data": {
            "text/plain": [
              "[('idcurso', 'int'),\n",
              " ('idpersona', 'int'),\n",
              " ('idmateria', 'int'),\n",
              " ('nombre', 'string'),\n",
              " ('nota', 'string')]"
            ]
          },
          "metadata": {},
          "execution_count": 54
        }
      ]
    },
    {
      "cell_type": "code",
      "source": [
        "df_persona.schema"
      ],
      "metadata": {
        "colab": {
          "base_uri": "https://localhost:8080/"
        },
        "id": "PLpNizuo4GPu",
        "outputId": "d9283d83-cac7-4549-fe5f-a532b8beb8b3"
      },
      "id": "PLpNizuo4GPu",
      "execution_count": 70,
      "outputs": [
        {
          "output_type": "execute_result",
          "data": {
            "text/plain": [
              "StructType([StructField('idpersona', IntegerType(), False), StructField('nombre', StringType(), False), StructField('apellido', StringType(), False), StructField('cedula', StringType(), False), StructField('celular', StringType(), False)])"
            ]
          },
          "metadata": {},
          "execution_count": 70
        }
      ]
    },
    {
      "cell_type": "code",
      "source": [
        "df_persona.printSchema"
      ],
      "metadata": {
        "colab": {
          "base_uri": "https://localhost:8080/",
          "height": 186
        },
        "id": "oCqUrGIh5EHG",
        "outputId": "0572c901-703b-4ec6-df7c-92c9cb93beac"
      },
      "id": "oCqUrGIh5EHG",
      "execution_count": 56,
      "outputs": [
        {
          "output_type": "execute_result",
          "data": {
            "text/plain": [
              "<bound method DataFrame.printSchema of DataFrame[idpersona: int, nombre: string, apellido: string, cedula: string, celular: string]>"
            ],
            "text/html": [
              "<div style=\"max-width:800px; border: 1px solid var(--colab-border-color);\"><style>\n",
              "      pre.function-repr-contents {\n",
              "        overflow-x: auto;\n",
              "        padding: 8px 12px;\n",
              "        max-height: 500px;\n",
              "      }\n",
              "\n",
              "      pre.function-repr-contents.function-repr-contents-collapsed {\n",
              "        cursor: pointer;\n",
              "        max-height: 100px;\n",
              "      }\n",
              "    </style>\n",
              "    <pre style=\"white-space: initial; background:\n",
              "         var(--colab-secondary-surface-color); padding: 8px 12px;\n",
              "         border-bottom: 1px solid var(--colab-border-color);\"><b>pyspark.sql.dataframe.DataFrame.printSchema</b><br/>def printSchema(level: Optional[int]=None) -&gt; None</pre><pre class=\"function-repr-contents function-repr-contents-collapsed\" style=\"\"><a class=\"filepath\" style=\"display:none\" href=\"#\">/usr/local/lib/python3.10/dist-packages/pyspark/sql/dataframe.py</a>Prints out the schema in the tree format.\n",
              "Optionally allows to specify how many levels to print if schema is nested.\n",
              "\n",
              ".. versionadded:: 1.3.0\n",
              "\n",
              ".. versionchanged:: 3.4.0\n",
              "    Supports Spark Connect.\n",
              "\n",
              "Parameters\n",
              "----------\n",
              "level : int, optional, default None\n",
              "    How many levels to print for nested schemas.\n",
              "\n",
              "    .. versionchanged:: 3.5.0\n",
              "        Added Level parameter.\n",
              "\n",
              "Examples\n",
              "--------\n",
              "&gt;&gt;&gt; df = spark.createDataFrame(\n",
              "...     [(14, &quot;Tom&quot;), (23, &quot;Alice&quot;), (16, &quot;Bob&quot;)], [&quot;age&quot;, &quot;name&quot;])\n",
              "&gt;&gt;&gt; df.printSchema()\n",
              "root\n",
              " |-- age: long (nullable = true)\n",
              " |-- name: string (nullable = true)\n",
              "\n",
              "&gt;&gt;&gt; df = spark.createDataFrame([(1, (2,2))], [&quot;a&quot;, &quot;b&quot;])\n",
              "&gt;&gt;&gt; df.printSchema(1)\n",
              "root\n",
              " |-- a: long (nullable = true)\n",
              " |-- b: struct (nullable = true)\n",
              "\n",
              "&gt;&gt;&gt; df.printSchema(2)\n",
              "root\n",
              " |-- a: long (nullable = true)\n",
              " |-- b: struct (nullable = true)\n",
              " |    |-- _1: long (nullable = true)\n",
              " |    |-- _2: long (nullable = true)</pre>\n",
              "      <script>\n",
              "      if (google.colab.kernel.accessAllowed && google.colab.files && google.colab.files.view) {\n",
              "        for (const element of document.querySelectorAll('.filepath')) {\n",
              "          element.style.display = 'block'\n",
              "          element.onclick = (event) => {\n",
              "            event.preventDefault();\n",
              "            event.stopPropagation();\n",
              "            google.colab.files.view(element.textContent, 581);\n",
              "          };\n",
              "        }\n",
              "      }\n",
              "      for (const element of document.querySelectorAll('.function-repr-contents')) {\n",
              "        element.onclick = (event) => {\n",
              "          event.preventDefault();\n",
              "          event.stopPropagation();\n",
              "          element.classList.toggle('function-repr-contents-collapsed');\n",
              "        };\n",
              "      }\n",
              "      </script>\n",
              "      </div>"
            ]
          },
          "metadata": {},
          "execution_count": 56
        }
      ]
    },
    {
      "cell_type": "markdown",
      "source": [
        "Agrupar"
      ],
      "metadata": {
        "id": "rLzRqfR65ny6"
      },
      "id": "rLzRqfR65ny6"
    },
    {
      "cell_type": "code",
      "source": [
        "from pyspark.sql.functions import count, sum, avg, max, min"
      ],
      "metadata": {
        "id": "e9O8telC5PQQ"
      },
      "id": "e9O8telC5PQQ",
      "execution_count": 57,
      "outputs": []
    },
    {
      "cell_type": "code",
      "source": [
        "# Registrar DataFrame como tabla temporal\n",
        "df_curso.createOrReplaceTempView(\"curso_temp\")\n",
        "\n",
        "# Ejecutar consulta SQL para calcular métricas sobre la columna 'nota' agrupadas por 'idcurso'\n",
        "consulta_sql = \"\"\"\n",
        "    SELECT idcurso,\n",
        "           COUNT(*) AS count,\n",
        "           SUM(cast(nota as float)) AS sum_notas,\n",
        "           AVG(cast(nota as float)) AS avg_notas,\n",
        "           MAX(cast(nota as float)) AS max_nota,\n",
        "           MIN(cast(nota as float)) AS min_nota\n",
        "    FROM curso_temp\n",
        "    GROUP BY idcurso\n",
        "\"\"\"\n",
        "\n",
        "# Ejecutar la consulta SQL y mostrar el resultado\n",
        "resultado = spark.sql(consulta_sql)\n",
        "resultado.show()\n"
      ],
      "metadata": {
        "colab": {
          "base_uri": "https://localhost:8080/"
        },
        "id": "5nFN2Qsz5okw",
        "outputId": "d19a2a61-020e-4174-93f8-63a1708871b4"
      },
      "id": "5nFN2Qsz5okw",
      "execution_count": 58,
      "outputs": [
        {
          "output_type": "stream",
          "name": "stdout",
          "text": [
            "+-------+-----+-----------------+-----------------+--------+--------+\n",
            "|idcurso|count|        sum_notas|        avg_notas|max_nota|min_nota|\n",
            "+-------+-----+-----------------+-----------------+--------+--------+\n",
            "|     12|    1|8.199999809265137|8.199999809265137|     8.2|     8.2|\n",
            "|      1|    1|  9.0600004196167|  9.0600004196167|    9.06|    9.06|\n",
            "|     13|    1|6.059999942779541|6.059999942779541|    6.06|    6.06|\n",
            "|      6|    1|8.199999809265137|8.199999809265137|     8.2|     8.2|\n",
            "|      3|    1|7.590000152587891|7.590000152587891|    7.59|    7.59|\n",
            "|      5|    1|7.210000038146973|7.210000038146973|    7.21|    7.21|\n",
            "|     15|    1| 8.59000015258789| 8.59000015258789|    8.59|    8.59|\n",
            "|      9|    1| 8.59000015258789| 8.59000015258789|    8.59|    8.59|\n",
            "|      4|    1|6.300000190734863|6.300000190734863|     6.3|     6.3|\n",
            "|      8|    1|6.269999980926514|6.269999980926514|    6.27|    6.27|\n",
            "|      7|    1|7.059999942779541|7.059999942779541|    7.06|    7.06|\n",
            "|     10|    1|9.300000190734863|9.300000190734863|     9.3|     9.3|\n",
            "|     11|    1|7.210000038146973|7.210000038146973|    7.21|    7.21|\n",
            "|     14|    1|7.269999980926514|7.269999980926514|    7.27|    7.27|\n",
            "|      2|    1|8.270000457763672|8.270000457763672|    8.27|    8.27|\n",
            "|     28|    1|7.300000190734863|7.300000190734863|     7.3|     7.3|\n",
            "|     26|    1|9.270000457763672|9.270000457763672|    9.27|    9.27|\n",
            "|     27|    1| 8.59000015258789| 8.59000015258789|    8.59|    8.59|\n",
            "|     22|    1|7.300000190734863|7.300000190734863|     7.3|     7.3|\n",
            "|     16|    1|9.300000190734863|9.300000190734863|     9.3|     9.3|\n",
            "+-------+-----+-----------------+-----------------+--------+--------+\n",
            "only showing top 20 rows\n",
            "\n"
          ]
        }
      ]
    },
    {
      "cell_type": "code",
      "source": [
        "df_curso.sort(\"nota\").show(5)"
      ],
      "metadata": {
        "colab": {
          "base_uri": "https://localhost:8080/"
        },
        "id": "W50wR4-R6K4I",
        "outputId": "f21900c4-4001-4031-aff9-3ecdf22c2c4f"
      },
      "id": "W50wR4-R6K4I",
      "execution_count": 59,
      "outputs": [
        {
          "output_type": "stream",
          "name": "stdout",
          "text": [
            "+-------+---------+---------+------+----+\n",
            "|idcurso|idpersona|idmateria|nombre|nota|\n",
            "+-------+---------+---------+------+----+\n",
            "|     13|        1|        1|   M3A|6.06|\n",
            "|     17|        5|        5|   M3A|6.21|\n",
            "|      8|        2|        2|   M3A|6.27|\n",
            "|      4|        4|        4|   M3A|6.30|\n",
            "|      7|        1|        1|   M3A|7.06|\n",
            "+-------+---------+---------+------+----+\n",
            "only showing top 5 rows\n",
            "\n"
          ]
        }
      ]
    },
    {
      "cell_type": "code",
      "source": [
        "# Sort the data in descending order.\n",
        "df_curso.sort(desc(\"nota\")).show(5)"
      ],
      "metadata": {
        "colab": {
          "base_uri": "https://localhost:8080/"
        },
        "id": "IcPpbX1m6bQe",
        "outputId": "c2113551-da6a-43f9-f06f-ea462d240317"
      },
      "id": "IcPpbX1m6bQe",
      "execution_count": 60,
      "outputs": [
        {
          "output_type": "stream",
          "name": "stdout",
          "text": [
            "+-------+---------+---------+------+----+\n",
            "|idcurso|idpersona|idmateria|nombre|nota|\n",
            "+-------+---------+---------+------+----+\n",
            "|     10|        4|        4|   M3A|9.30|\n",
            "|     16|        4|        4|   M3A|9.30|\n",
            "|     26|        2|        2|   M3A|9.27|\n",
            "|     29|        5|        5|   M3A|9.21|\n",
            "|      1|        1|        1|   M3A|9.06|\n",
            "+-------+---------+---------+------+----+\n",
            "only showing top 5 rows\n",
            "\n"
          ]
        }
      ]
    },
    {
      "cell_type": "markdown",
      "source": [
        "Joins"
      ],
      "metadata": {
        "id": "O3s50xq7xtlh"
      },
      "id": "O3s50xq7xtlh"
    },
    {
      "cell_type": "code",
      "source": [
        "# Realizar el join entre los DataFrames\n",
        "df_resultado = df_persona.join(df_curso, df_persona[\"idpersona\"] == df_curso[\"idpersona\"]) \\\n",
        "                         .join(df_materia, df_curso[\"idmateria\"] == df_materia[\"idmateria\"]) \\\n",
        "                         .select(df_curso[\"idcurso\"], df_persona[\"idpersona\"], df_materia[\"nombre\"].alias(\"nombre_materia\"),\n",
        "                                 df_persona[\"nombre\"], df_persona[\"apellido\"], df_curso[\"nombre\"].alias(\"nombre_curso\"),\n",
        "                                 df_curso[\"nota\"]).show()"
      ],
      "metadata": {
        "colab": {
          "base_uri": "https://localhost:8080/"
        },
        "id": "K1z5rOQ8wkoB",
        "outputId": "a31582b7-05d5-49bc-dae5-e9abc0288b19"
      },
      "id": "K1z5rOQ8wkoB",
      "execution_count": 61,
      "outputs": [
        {
          "output_type": "stream",
          "name": "stdout",
          "text": [
            "+-------+---------+--------------------+------+---------+------------+----+\n",
            "|idcurso|idpersona|      nombre_materia|nombre| apellido|nombre_curso|nota|\n",
            "+-------+---------+--------------------+------+---------+------------+----+\n",
            "|     25|        1|Aprendizaje Profundo|Victor|  Cabrera|         M3A|8.06|\n",
            "|     19|        1|Aprendizaje Profundo|Victor|  Cabrera|         M3A|8.06|\n",
            "|     13|        1|Aprendizaje Profundo|Victor|  Cabrera|         M3A|6.06|\n",
            "|      7|        1|Aprendizaje Profundo|Victor|  Cabrera|         M3A|7.06|\n",
            "|      1|        1|Aprendizaje Profundo|Victor|  Cabrera|         M3A|9.06|\n",
            "|     27|        3|    Mineria de Datos| Ariel|Saquicela|         M3A|8.59|\n",
            "|     21|        3|    Mineria de Datos| Ariel|Saquicela|         M3A|8.59|\n",
            "|     15|        3|    Mineria de Datos| Ariel|Saquicela|         M3A|8.59|\n",
            "|      9|        3|    Mineria de Datos| Ariel|Saquicela|         M3A|8.59|\n",
            "|      3|        3|    Mineria de Datos| Ariel|Saquicela|         M3A|7.59|\n",
            "|     26|        2|Marcos de Referen...|Maicol|   Lojano|         M3A|9.27|\n",
            "|     20|        2|Marcos de Referen...|Maicol|   Lojano|         M3A|7.27|\n",
            "|     14|        2|Marcos de Referen...|Maicol|   Lojano|         M3A|7.27|\n",
            "|      8|        2|Marcos de Referen...|Maicol|   Lojano|         M3A|6.27|\n",
            "|      2|        2|Marcos de Referen...|Maicol|   Lojano|         M3A|8.27|\n",
            "|     29|        5|   Etica Profesional| Danny| Auquilla|         M3A|9.21|\n",
            "|     23|        5|   Etica Profesional| Danny| Auquilla|         M3A|8.21|\n",
            "|     17|        5|   Etica Profesional| Danny| Auquilla|         M3A|6.21|\n",
            "|     11|        5|   Etica Profesional| Danny| Auquilla|         M3A|7.21|\n",
            "|      5|        5|   Etica Profesional| Danny| Auquilla|         M3A|7.21|\n",
            "+-------+---------+--------------------+------+---------+------------+----+\n",
            "only showing top 20 rows\n",
            "\n"
          ]
        }
      ]
    },
    {
      "cell_type": "markdown",
      "source": [
        "right_outer"
      ],
      "metadata": {
        "id": "8bFsqGCAxw1F"
      },
      "id": "8bFsqGCAxw1F"
    },
    {
      "cell_type": "code",
      "source": [
        "# Realizar el join right_outer entre los DataFrames\n",
        "df_resultado = df_persona.join(df_curso, df_persona[\"idpersona\"] == df_curso[\"idpersona\"], \"right_outer\") \\\n",
        "                         .select(df_persona[\"idpersona\"], df_persona[\"nombre\"], df_persona[\"apellido\"],\n",
        "                                 df_curso[\"idcurso\"], df_curso[\"idmateria\"], df_curso[\"nombre\"].alias(\"nombre_curso\"),\n",
        "                                 df_curso[\"nota\"]).show()"
      ],
      "metadata": {
        "colab": {
          "base_uri": "https://localhost:8080/"
        },
        "id": "Xav6XMKdxxRJ",
        "outputId": "d8b2e912-9927-48b6-c4b2-94164a5fece7"
      },
      "id": "Xav6XMKdxxRJ",
      "execution_count": 62,
      "outputs": [
        {
          "output_type": "stream",
          "name": "stdout",
          "text": [
            "+---------+------+---------+-------+---------+------------+----+\n",
            "|idpersona|nombre| apellido|idcurso|idmateria|nombre_curso|nota|\n",
            "+---------+------+---------+-------+---------+------------+----+\n",
            "|        1|Victor|  Cabrera|      1|        1|         M3A|9.06|\n",
            "|        1|Victor|  Cabrera|      7|        1|         M3A|7.06|\n",
            "|        1|Victor|  Cabrera|     13|        1|         M3A|6.06|\n",
            "|     NULL|  NULL|     NULL|      6|        6|         M3A|8.20|\n",
            "|     NULL|  NULL|     NULL|     12|        6|         M3A|8.20|\n",
            "|        3| Ariel|Saquicela|      3|        3|         M3A|7.59|\n",
            "|        3| Ariel|Saquicela|      9|        3|         M3A|8.59|\n",
            "|        3| Ariel|Saquicela|     15|        3|         M3A|8.59|\n",
            "|        5| Danny| Auquilla|      5|        5|         M3A|7.21|\n",
            "|        5| Danny| Auquilla|     11|        5|         M3A|7.21|\n",
            "|        4|  Paul|Rodriguez|      4|        4|         M3A|6.30|\n",
            "|        4|  Paul|Rodriguez|     10|        4|         M3A|9.30|\n",
            "|        2|Maicol|   Lojano|      2|        2|         M3A|8.27|\n",
            "|        2|Maicol|   Lojano|      8|        2|         M3A|6.27|\n",
            "|        2|Maicol|   Lojano|     14|        2|         M3A|7.27|\n",
            "|        1|Victor|  Cabrera|     19|        1|         M3A|8.06|\n",
            "|        1|Victor|  Cabrera|     25|        1|         M3A|8.06|\n",
            "|     NULL|  NULL|     NULL|     18|        6|         M3A|7.20|\n",
            "|     NULL|  NULL|     NULL|     24|        6|         M3A|7.20|\n",
            "|     NULL|  NULL|     NULL|     30|        6|         M3A|8.20|\n",
            "+---------+------+---------+-------+---------+------------+----+\n",
            "only showing top 20 rows\n",
            "\n"
          ]
        }
      ]
    },
    {
      "cell_type": "markdown",
      "source": [
        "left_outer"
      ],
      "metadata": {
        "id": "EQhTEBp3yKpI"
      },
      "id": "EQhTEBp3yKpI"
    },
    {
      "cell_type": "code",
      "source": [
        "# Realizar el join left_outer entre los DataFrames\n",
        "df_resultado = df_persona.join(df_curso, df_persona[\"idpersona\"] == df_curso[\"idpersona\"], \"left_outer\") \\\n",
        "                         .select(df_persona[\"idpersona\"], df_persona[\"nombre\"], df_persona[\"apellido\"],\n",
        "                                 df_curso[\"idcurso\"], df_curso[\"idmateria\"], df_curso[\"nombre\"].alias(\"nombre_curso\"),\n",
        "                                 df_curso[\"nota\"]).show()"
      ],
      "metadata": {
        "colab": {
          "base_uri": "https://localhost:8080/"
        },
        "id": "zuUepxfnyJ0T",
        "outputId": "cffbd700-1791-499a-b98c-ce0b60944bcf"
      },
      "id": "zuUepxfnyJ0T",
      "execution_count": 63,
      "outputs": [
        {
          "output_type": "stream",
          "name": "stdout",
          "text": [
            "+---------+------+---------+-------+---------+------------+----+\n",
            "|idpersona|nombre| apellido|idcurso|idmateria|nombre_curso|nota|\n",
            "+---------+------+---------+-------+---------+------------+----+\n",
            "|        1|Victor|  Cabrera|     25|        1|         M3A|8.06|\n",
            "|        1|Victor|  Cabrera|     19|        1|         M3A|8.06|\n",
            "|        1|Victor|  Cabrera|     13|        1|         M3A|6.06|\n",
            "|        1|Victor|  Cabrera|      7|        1|         M3A|7.06|\n",
            "|        1|Victor|  Cabrera|      1|        1|         M3A|9.06|\n",
            "|        2|Maicol|   Lojano|     26|        2|         M3A|9.27|\n",
            "|        2|Maicol|   Lojano|     20|        2|         M3A|7.27|\n",
            "|        2|Maicol|   Lojano|     14|        2|         M3A|7.27|\n",
            "|        2|Maicol|   Lojano|      8|        2|         M3A|6.27|\n",
            "|        2|Maicol|   Lojano|      2|        2|         M3A|8.27|\n",
            "|        3| Ariel|Saquicela|     27|        3|         M3A|8.59|\n",
            "|        3| Ariel|Saquicela|     21|        3|         M3A|8.59|\n",
            "|        3| Ariel|Saquicela|     15|        3|         M3A|8.59|\n",
            "|        3| Ariel|Saquicela|      9|        3|         M3A|8.59|\n",
            "|        3| Ariel|Saquicela|      3|        3|         M3A|7.59|\n",
            "|        5| Danny| Auquilla|     29|        5|         M3A|9.21|\n",
            "|        5| Danny| Auquilla|     23|        5|         M3A|8.21|\n",
            "|        5| Danny| Auquilla|     17|        5|         M3A|6.21|\n",
            "|        5| Danny| Auquilla|     11|        5|         M3A|7.21|\n",
            "|        5| Danny| Auquilla|      5|        5|         M3A|7.21|\n",
            "+---------+------+---------+-------+---------+------------+----+\n",
            "only showing top 20 rows\n",
            "\n"
          ]
        }
      ]
    },
    {
      "cell_type": "markdown",
      "source": [
        "Outer"
      ],
      "metadata": {
        "id": "loNf6n9pycyQ"
      },
      "id": "loNf6n9pycyQ"
    },
    {
      "cell_type": "code",
      "source": [
        "# Realizar el join outer entre los DataFrames\n",
        "df_resultado = df_persona.join(df_curso, df_persona[\"idpersona\"] == df_curso[\"idpersona\"], \"outer\") \\\n",
        "                         .select(df_persona[\"idpersona\"], df_persona[\"nombre\"], df_persona[\"apellido\"],\n",
        "                                 df_curso[\"idcurso\"], df_curso[\"idmateria\"], df_curso[\"nombre\"].alias(\"nombre_curso\"),\n",
        "                                 df_curso[\"nota\"]).show()"
      ],
      "metadata": {
        "colab": {
          "base_uri": "https://localhost:8080/"
        },
        "id": "_2nAyHCcycF9",
        "outputId": "c740735e-e887-4b57-a24f-4f57ae3a52fd"
      },
      "id": "_2nAyHCcycF9",
      "execution_count": 64,
      "outputs": [
        {
          "output_type": "stream",
          "name": "stdout",
          "text": [
            "+---------+------+---------+-------+---------+------------+----+\n",
            "|idpersona|nombre| apellido|idcurso|idmateria|nombre_curso|nota|\n",
            "+---------+------+---------+-------+---------+------------+----+\n",
            "|        1|Victor|  Cabrera|      1|        1|         M3A|9.06|\n",
            "|        1|Victor|  Cabrera|      7|        1|         M3A|7.06|\n",
            "|        1|Victor|  Cabrera|     13|        1|         M3A|6.06|\n",
            "|        1|Victor|  Cabrera|     19|        1|         M3A|8.06|\n",
            "|        1|Victor|  Cabrera|     25|        1|         M3A|8.06|\n",
            "|        2|Maicol|   Lojano|      2|        2|         M3A|8.27|\n",
            "|        2|Maicol|   Lojano|      8|        2|         M3A|6.27|\n",
            "|        2|Maicol|   Lojano|     14|        2|         M3A|7.27|\n",
            "|        2|Maicol|   Lojano|     20|        2|         M3A|7.27|\n",
            "|        2|Maicol|   Lojano|     26|        2|         M3A|9.27|\n",
            "|        3| Ariel|Saquicela|      3|        3|         M3A|7.59|\n",
            "|        3| Ariel|Saquicela|      9|        3|         M3A|8.59|\n",
            "|        3| Ariel|Saquicela|     15|        3|         M3A|8.59|\n",
            "|        3| Ariel|Saquicela|     21|        3|         M3A|8.59|\n",
            "|        3| Ariel|Saquicela|     27|        3|         M3A|8.59|\n",
            "|        4|  Paul|Rodriguez|      4|        4|         M3A|6.30|\n",
            "|        4|  Paul|Rodriguez|     10|        4|         M3A|9.30|\n",
            "|        4|  Paul|Rodriguez|     16|        4|         M3A|9.30|\n",
            "|        4|  Paul|Rodriguez|     22|        4|         M3A|7.30|\n",
            "|        4|  Paul|Rodriguez|     28|        4|         M3A|7.30|\n",
            "+---------+------+---------+-------+---------+------------+----+\n",
            "only showing top 20 rows\n",
            "\n"
          ]
        }
      ]
    },
    {
      "cell_type": "code",
      "source": [
        "# Registrar DataFrame como tabla temporal\n",
        "df_persona.createOrReplaceTempView(\"persona_temp\")\n",
        "df_materia.createOrReplaceTempView(\"materia_temp\")\n",
        "df_curso.createOrReplaceTempView(\"curso_temp\")\n",
        "\n",
        "# Ejecutar consulta SQL-like\n",
        "consulta_sql = \"\"\"\n",
        "    SELECT p.idpersona, p.nombre, p.apellido, c.idcurso, c.idmateria, c.nombre AS nombre_curso, c.nota\n",
        "    FROM persona_temp p\n",
        "    JOIN curso_temp c ON p.idpersona = c.idpersona\n",
        "    WHERE p.idpersona = 3\n",
        "\"\"\"\n",
        "\n",
        "resultado = spark.sql(consulta_sql)\n",
        "\n",
        "# Mostrar el resultado\n",
        "resultado.show()\n"
      ],
      "metadata": {
        "colab": {
          "base_uri": "https://localhost:8080/"
        },
        "id": "dOIwGpzaysej",
        "outputId": "876b2a9a-974b-4310-b09f-44b1e95f0cb2"
      },
      "id": "dOIwGpzaysej",
      "execution_count": 65,
      "outputs": [
        {
          "output_type": "stream",
          "name": "stdout",
          "text": [
            "+---------+------+---------+-------+---------+------------+----+\n",
            "|idpersona|nombre| apellido|idcurso|idmateria|nombre_curso|nota|\n",
            "+---------+------+---------+-------+---------+------------+----+\n",
            "|        3| Ariel|Saquicela|      3|        3|         M3A|7.59|\n",
            "|        3| Ariel|Saquicela|      9|        3|         M3A|8.59|\n",
            "|        3| Ariel|Saquicela|     15|        3|         M3A|8.59|\n",
            "|        3| Ariel|Saquicela|     21|        3|         M3A|8.59|\n",
            "|        3| Ariel|Saquicela|     27|        3|         M3A|8.59|\n",
            "+---------+------+---------+-------+---------+------------+----+\n",
            "\n"
          ]
        }
      ]
    },
    {
      "cell_type": "code",
      "source": [
        "# Registrar DataFrame como tabla temporal\n",
        "df_persona.createOrReplaceTempView(\"persona_temp\")\n",
        "df_materia.createOrReplaceTempView(\"materia_temp\")\n",
        "df_curso.createOrReplaceTempView(\"curso_temp\")\n",
        "\n",
        "# Ejecutar consulta SQL para obtener valores distintos de 'id' de la tabla temporal\n",
        "spark.sql(\"SELECT DISTINCT idcurso FROM curso_temp\").show(10)\n",
        "\n"
      ],
      "metadata": {
        "colab": {
          "base_uri": "https://localhost:8080/"
        },
        "id": "A1_q5CDvzHPq",
        "outputId": "c5e23a64-aa33-48c4-994d-37e33a8ee261"
      },
      "id": "A1_q5CDvzHPq",
      "execution_count": 66,
      "outputs": [
        {
          "output_type": "stream",
          "name": "stdout",
          "text": [
            "+-------+\n",
            "|idcurso|\n",
            "+-------+\n",
            "|     12|\n",
            "|      1|\n",
            "|     13|\n",
            "|      6|\n",
            "|      3|\n",
            "|      5|\n",
            "|     15|\n",
            "|      9|\n",
            "|      4|\n",
            "|      8|\n",
            "+-------+\n",
            "only showing top 10 rows\n",
            "\n"
          ]
        }
      ]
    },
    {
      "cell_type": "code",
      "source": [
        "spark.sql(\"SELECT * FROM curso_temp WHERE nota >= 7\").show(10)\n"
      ],
      "metadata": {
        "colab": {
          "base_uri": "https://localhost:8080/"
        },
        "id": "u4tBDIVK0Xyg",
        "outputId": "3f9db6e4-7919-42c0-8e6e-f57288476763"
      },
      "id": "u4tBDIVK0Xyg",
      "execution_count": 67,
      "outputs": [
        {
          "output_type": "stream",
          "name": "stdout",
          "text": [
            "+-------+---------+---------+------+----+\n",
            "|idcurso|idpersona|idmateria|nombre|nota|\n",
            "+-------+---------+---------+------+----+\n",
            "|      1|        1|        1|   M3A|9.06|\n",
            "|      2|        2|        2|   M3A|8.27|\n",
            "|      3|        3|        3|   M3A|7.59|\n",
            "|      5|        5|        5|   M3A|7.21|\n",
            "|      6|        6|        6|   M3A|8.20|\n",
            "|      7|        1|        1|   M3A|7.06|\n",
            "|      9|        3|        3|   M3A|8.59|\n",
            "|     10|        4|        4|   M3A|9.30|\n",
            "|     11|        5|        5|   M3A|7.21|\n",
            "|     12|        6|        6|   M3A|8.20|\n",
            "+-------+---------+---------+------+----+\n",
            "only showing top 10 rows\n",
            "\n"
          ]
        }
      ]
    },
    {
      "cell_type": "markdown",
      "source": [
        "Guardar un dataframe como un archivo csv"
      ],
      "metadata": {
        "id": "iF_bT2WV1OGd"
      },
      "id": "iF_bT2WV1OGd"
    },
    {
      "cell_type": "code",
      "source": [
        "df.coalesce(1).write.format(\"csv\").option(\"header\", \"true\").option(\"delimiter\", \";\").save(\"persona2\")"
      ],
      "metadata": {
        "id": "-QhQ0DDl1NcF"
      },
      "id": "-QhQ0DDl1NcF",
      "execution_count": 68,
      "outputs": []
    }
  ],
  "metadata": {
    "kernelspec": {
      "display_name": "Python 3 (ipykernel)",
      "language": "python",
      "name": "python3"
    },
    "language_info": {
      "codemirror_mode": {
        "name": "ipython",
        "version": 3
      },
      "file_extension": ".py",
      "mimetype": "text/x-python",
      "name": "python",
      "nbconvert_exporter": "python",
      "pygments_lexer": "ipython3",
      "version": "3.11.5"
    },
    "colab": {
      "provenance": []
    }
  },
  "nbformat": 4,
  "nbformat_minor": 5
}