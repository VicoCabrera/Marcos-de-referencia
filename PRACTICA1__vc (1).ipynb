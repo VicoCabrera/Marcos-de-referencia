{
  "cells": [
    {
      "cell_type": "markdown",
      "id": "05c0f7db-a781-4232-9224-26968df7bc6f",
      "metadata": {
        "id": "05c0f7db-a781-4232-9224-26968df7bc6f"
      },
      "source": [
        "<!--Header-->\n",
        "<div>\n",
        "    <div class=\"row\" style=\"color: #4D4D4D;font-size: 15px;padding-bottom: 20px\">\n",
        "        <div class=\"col-md-7\">\n",
        "            <img src=\"https://www.tecazuay.edu.ec/wp-content/uploads/2023/07/LOGO-RECTANGULAR_SIN-FONDO-2048x626.png\" alt=\"Logo TECAZUAY\" width=\"100%\" class=\"img-responsive\" style=\"margin:20px 0px 0px\">\n",
        "        </div>\n",
        "        <div class=\"col-md-5\">\n",
        "            <h1 style=\"margin:15px 0px 0px;font-size: 40px;\">Spark y Dataframe</h1>\n",
        "            <div style=\"text-align:left;margin-top: 5px;\"></div>\n",
        "        </div>\n",
        "    </div>\n",
        "    <div class=\"row\" style=\"background: #FCB517;padding: 10px 20px;\">\n",
        "        <div class=\"col-md-6\">\n",
        "        </div>\n",
        "        <div class=\"col-md-6\">\n",
        "            </div>\n",
        "        </div>\n",
        "        <div style=\"text-align:right;\">Carrera: TECNOLOGÍA SUPERIOR EN BIG DATA <span style=\"margin-left: 30px;\"></span></div>\n",
        "         <div style=\"text-align:right;\">Estudiante: Victor Cabrera  <span style=\"margin-left: 30px;\"></span></div>\n",
        "          <div style=\"text-align:right;\">Fecha: 2/7/2024 <span style=\"margin-left: 30px;\"></span></div>\n",
        "        </div>\n",
        "    </div>\n",
        "</div>\n",
        "<!--/Header-->"
      ]
    },
    {
      "cell_type": "markdown",
      "id": "b53a61a2-8550-45d1-a166-ca662daed24d",
      "metadata": {
        "tags": [],
        "id": "b53a61a2-8550-45d1-a166-ca662daed24d"
      },
      "source": [
        "### Data personal"
      ]
    },
    {
      "cell_type": "code",
      "source": [
        "!pip install pyspark"
      ],
      "metadata": {
        "colab": {
          "base_uri": "https://localhost:8080/"
        },
        "id": "JRv8nj1yP9q7",
        "outputId": "e88bd13b-5960-4817-a23d-2a168e2f902e"
      },
      "id": "JRv8nj1yP9q7",
      "execution_count": null,
      "outputs": [
        {
          "output_type": "stream",
          "name": "stdout",
          "text": [
            "Collecting pyspark\n",
            "  Downloading pyspark-3.5.1.tar.gz (317.0 MB)\n",
            "\u001b[2K     \u001b[90m━━━━━━━━━━━━━━━━━━━━━━━━━━━━━━━━━━━━━━━━\u001b[0m \u001b[32m317.0/317.0 MB\u001b[0m \u001b[31m3.7 MB/s\u001b[0m eta \u001b[36m0:00:00\u001b[0m\n",
            "\u001b[?25h  Preparing metadata (setup.py) ... \u001b[?25l\u001b[?25hdone\n",
            "Requirement already satisfied: py4j==0.10.9.7 in /usr/local/lib/python3.10/dist-packages (from pyspark) (0.10.9.7)\n",
            "Building wheels for collected packages: pyspark\n",
            "  Building wheel for pyspark (setup.py) ... \u001b[?25l\u001b[?25hdone\n",
            "  Created wheel for pyspark: filename=pyspark-3.5.1-py2.py3-none-any.whl size=317488491 sha256=e0f91380742a8c04f364e1cb486233b001607def5aad35ca91d5dd1f5694978e\n",
            "  Stored in directory: /root/.cache/pip/wheels/80/1d/60/2c256ed38dddce2fdd93be545214a63e02fbd8d74fb0b7f3a6\n",
            "Successfully built pyspark\n",
            "Installing collected packages: pyspark\n",
            "Successfully installed pyspark-3.5.1\n"
          ]
        }
      ]
    },
    {
      "cell_type": "code",
      "source": [
        "!pip install findspark"
      ],
      "metadata": {
        "colab": {
          "base_uri": "https://localhost:8080/"
        },
        "id": "lcbGoqUQQZn3",
        "outputId": "22d2df48-4235-4d56-edc7-fc2fd3db937d"
      },
      "id": "lcbGoqUQQZn3",
      "execution_count": null,
      "outputs": [
        {
          "output_type": "stream",
          "name": "stdout",
          "text": [
            "Collecting findspark\n",
            "  Downloading findspark-2.0.1-py2.py3-none-any.whl (4.4 kB)\n",
            "Installing collected packages: findspark\n",
            "Successfully installed findspark-2.0.1\n"
          ]
        }
      ]
    },
    {
      "cell_type": "code",
      "execution_count": null,
      "id": "2e924dc2-a514-42a9-b340-79319b08ce0b",
      "metadata": {
        "tags": [],
        "id": "2e924dc2-a514-42a9-b340-79319b08ce0b"
      },
      "outputs": [],
      "source": [
        "import findspark\n",
        "findspark.init()\n",
        "\n",
        "import pandas as pd\n",
        "import pyspark"
      ]
    },
    {
      "cell_type": "code",
      "execution_count": null,
      "id": "ea39583d-1107-4605-9645-960db5d5c9e7",
      "metadata": {
        "id": "ea39583d-1107-4605-9645-960db5d5c9e7"
      },
      "outputs": [],
      "source": [
        "from pyspark.sql import SparkSession\n",
        "from pyspark.sql.functions import *"
      ]
    },
    {
      "cell_type": "code",
      "execution_count": null,
      "id": "3ce6d397-fdcc-478b-be50-32a4b3fe60e7",
      "metadata": {
        "id": "3ce6d397-fdcc-478b-be50-32a4b3fe60e7"
      },
      "outputs": [],
      "source": [
        "spark = SparkSession.builder.getOrCreate()"
      ]
    },
    {
      "cell_type": "code",
      "execution_count": null,
      "id": "f986ffad-fbd5-4e40-974a-5259e0e9ed5b",
      "metadata": {
        "colab": {
          "base_uri": "https://localhost:8080/",
          "height": 222
        },
        "id": "f986ffad-fbd5-4e40-974a-5259e0e9ed5b",
        "outputId": "7f398636-d4e2-4de0-ddb5-80885cd6c16f"
      },
      "outputs": [
        {
          "output_type": "execute_result",
          "data": {
            "text/plain": [
              "<pyspark.sql.session.SparkSession at 0x7fd420f3b640>"
            ],
            "text/html": [
              "\n",
              "            <div>\n",
              "                <p><b>SparkSession - in-memory</b></p>\n",
              "                \n",
              "        <div>\n",
              "            <p><b>SparkContext</b></p>\n",
              "\n",
              "            <p><a href=\"http://245496f6275c:4040\">Spark UI</a></p>\n",
              "\n",
              "            <dl>\n",
              "              <dt>Version</dt>\n",
              "                <dd><code>v3.5.1</code></dd>\n",
              "              <dt>Master</dt>\n",
              "                <dd><code>local[*]</code></dd>\n",
              "              <dt>AppName</dt>\n",
              "                <dd><code>pyspark-shell</code></dd>\n",
              "            </dl>\n",
              "        </div>\n",
              "        \n",
              "            </div>\n",
              "        "
            ]
          },
          "metadata": {},
          "execution_count": 6
        }
      ],
      "source": [
        "spark"
      ]
    },
    {
      "cell_type": "markdown",
      "id": "a67f5f58-53b1-411a-ab32-101d40bb04ed",
      "metadata": {
        "id": "a67f5f58-53b1-411a-ab32-101d40bb04ed"
      },
      "source": [
        "**1. Crea un DataFrame para la entidad \"productos\" con las columnas: idProducto (entero), nombre (cadena) y idCategoria (entero).**"
      ]
    },
    {
      "cell_type": "code",
      "execution_count": null,
      "id": "1af54c1a-1d10-4268-ba9d-32eddc1a310e",
      "metadata": {
        "id": "1af54c1a-1d10-4268-ba9d-32eddc1a310e"
      },
      "outputs": [],
      "source": [
        "productos = [\n",
        "    (31, \"fideo laso\", 10),\n",
        "    (32, \"fideo codo\", 10),\n",
        "    (33, \"fideo macarron\", 10),\n",
        "    (34, \"Arroz Roma\", 11),\n",
        "    (35, \"Arroz Ribe\", 11),\n",
        "    (36, \"Arroz integral\", 11),\n",
        "    (37, \"Sardinas enlatadas\", 12),\n",
        "    (38, \"Atún enlatado\", 12),\n",
        "    (39, \"Duraznos enlatados\", 12),\n",
        "    (40, \"Maíz enlatados\", 12)\n",
        "]\n",
        "productosdf=spark.createDataFrame(productos,[\"id_producto\", \"nombre\", \"id_categoria\"])"
      ]
    },
    {
      "cell_type": "code",
      "source": [
        "productosdf.show()"
      ],
      "metadata": {
        "colab": {
          "base_uri": "https://localhost:8080/"
        },
        "id": "yt-c-eebVlkV",
        "outputId": "8b318d6d-db64-4abc-f59b-3af8535a2d7e"
      },
      "id": "yt-c-eebVlkV",
      "execution_count": null,
      "outputs": [
        {
          "output_type": "stream",
          "name": "stdout",
          "text": [
            "+-----------+------------------+------------+\n",
            "|id_producto|            nombre|id_categoria|\n",
            "+-----------+------------------+------------+\n",
            "|         31|        fideo laso|          10|\n",
            "|         32|        fideo codo|          10|\n",
            "|         33|    fideo macarron|          10|\n",
            "|         34|        Arroz Roma|          11|\n",
            "|         35|        Arroz Ribe|          11|\n",
            "|         36|    Arroz integral|          11|\n",
            "|         37|Sardinas enlatadas|          12|\n",
            "|         38|     Atún enlatado|          12|\n",
            "|         39|Duraznos enlatados|          12|\n",
            "|         40|    Maíz enlatados|          12|\n",
            "+-----------+------------------+------------+\n",
            "\n"
          ]
        }
      ]
    },
    {
      "cell_type": "markdown",
      "id": "40455d72-6946-41ef-814a-79f6af5d25ac",
      "metadata": {
        "id": "40455d72-6946-41ef-814a-79f6af5d25ac"
      },
      "source": [
        "**2.Crea un DataFrame para la entidad \"categorias\" con las columnas: idCategoria (entero) y nombre (cadena).**\n"
      ]
    },
    {
      "cell_type": "code",
      "execution_count": null,
      "id": "94011b3d-2635-48fb-9136-40de471cfa6c",
      "metadata": {
        "id": "94011b3d-2635-48fb-9136-40de471cfa6c"
      },
      "outputs": [],
      "source": [
        "categorias = [\n",
        "    (10, \"Pastas\"),\n",
        "    (11, \"Arroz\"),\n",
        "    (12, \"Productos enlatados\")\n",
        "]\n",
        "categoriasdf=spark.createDataFrame(categorias,[\"id_categoria\", \"nombre\"])"
      ]
    },
    {
      "cell_type": "code",
      "source": [
        "categoriasdf.show()"
      ],
      "metadata": {
        "colab": {
          "base_uri": "https://localhost:8080/"
        },
        "id": "84BASmPXTJL-",
        "outputId": "e924b896-6865-42ef-e99d-208e1a84f18a"
      },
      "id": "84BASmPXTJL-",
      "execution_count": null,
      "outputs": [
        {
          "output_type": "stream",
          "name": "stdout",
          "text": [
            "+------------+-------------------+\n",
            "|id_categoria|             nombre|\n",
            "+------------+-------------------+\n",
            "|          10|             Pastas|\n",
            "|          11|              Arroz|\n",
            "|          12|Productos enlatados|\n",
            "+------------+-------------------+\n",
            "\n"
          ]
        }
      ]
    },
    {
      "cell_type": "markdown",
      "id": "ebfaab46-c0d9-4232-833c-69f1c4f159b4",
      "metadata": {
        "id": "ebfaab46-c0d9-4232-833c-69f1c4f159b4"
      },
      "source": [
        "**3.Crea un DataFrame para la entidad \"ventas\" con las columnas: id_venta (entero), id_producto (entero), cantidad (entero) y fecha (cadena).**"
      ]
    },
    {
      "cell_type": "code",
      "execution_count": null,
      "id": "be966b28-74de-4872-8f5e-4eb1476fe730",
      "metadata": {
        "id": "be966b28-74de-4872-8f5e-4eb1476fe730"
      },
      "outputs": [],
      "source": [
        "ventas = [\n",
        "    (310, 31, 2, \"10-06-2023\"),\n",
        "    (311, 31, 1, \"11-06-2023\"),\n",
        "    (320, 32, 3, \"12-06-2023\"),\n",
        "    (321, 32, 2, \"13-06-2023\"),\n",
        "    (330, 33, 4, \"14-06-2023\"),\n",
        "    (331, 33, 1, \"15-06-2023\"),\n",
        "    (340, 34, 2, \"16-06-2023\"),\n",
        "    (341, 34, 4, \"17-06-2023\"),\n",
        "    (350, 35, 2, \"18-06-2023\"),\n",
        "    (351, 35, 5, \"19-06-2023\"),\n",
        "    (360, 36, 4, \"20-06-2023\"),\n",
        "    (361, 36, 2, \"21-06-2023\"),\n",
        "    (370, 37, 1, \"22-06-2023\"),\n",
        "    (371, 37, 3, \"23-06-2023\"),\n",
        "    (380, 38, 1, \"24-06-2023\"),\n",
        "    (381, 38, 2, \"25-06-2023\"),\n",
        "    (390, 39, 3, \"26-06-2023\"),\n",
        "    (391, 39, 6, \"27-06-2023\"),\n",
        "    (400, 40, 5, \"28-06-2023\"),\n",
        "    (401, 40, 4, \"29-06-2023\")\n",
        "]\n",
        "ventasdf=spark.createDataFrame(ventas,[\"id_venta\", \"id_producto\", \"cantidad\", \"fecha\"])"
      ]
    },
    {
      "cell_type": "code",
      "execution_count": null,
      "id": "ca54ec59-a8d0-4a40-b5c0-07845cbd38f0",
      "metadata": {
        "colab": {
          "base_uri": "https://localhost:8080/"
        },
        "id": "ca54ec59-a8d0-4a40-b5c0-07845cbd38f0",
        "outputId": "3cf1e8ea-b773-44eb-dc98-a821fe56f19b"
      },
      "outputs": [
        {
          "output_type": "stream",
          "name": "stdout",
          "text": [
            "+--------+-----------+--------+----------+\n",
            "|id_venta|id_producto|cantidad|     fecha|\n",
            "+--------+-----------+--------+----------+\n",
            "|     310|         31|       2|10-06-2023|\n",
            "|     311|         31|       1|11-06-2023|\n",
            "|     320|         32|       3|12-06-2023|\n",
            "|     321|         32|       2|13-06-2023|\n",
            "|     330|         33|       4|14-06-2023|\n",
            "|     331|         33|       1|15-06-2023|\n",
            "|     340|         34|       2|16-06-2023|\n",
            "|     341|         34|       4|17-06-2023|\n",
            "|     350|         35|       2|18-06-2023|\n",
            "|     351|         35|       5|19-06-2023|\n",
            "|     360|         36|       4|20-06-2023|\n",
            "|     361|         36|       2|21-06-2023|\n",
            "|     370|         37|       1|22-06-2023|\n",
            "|     371|         37|       3|23-06-2023|\n",
            "|     380|         38|       1|24-06-2023|\n",
            "|     381|         38|       2|25-06-2023|\n",
            "|     390|         39|       3|26-06-2023|\n",
            "|     391|         39|       6|27-06-2023|\n",
            "|     400|         40|       5|28-06-2023|\n",
            "|     401|         40|       4|29-06-2023|\n",
            "+--------+-----------+--------+----------+\n",
            "\n"
          ]
        }
      ],
      "source": [
        "ventasdf = spark.createDataFrame(ventas, ['id_venta', 'id_producto', 'cantidad', 'fecha'])\n",
        "ventasdf.show()"
      ]
    },
    {
      "cell_type": "markdown",
      "id": "e4268f43-d67c-447e-99a3-d3395c9ca035",
      "metadata": {
        "id": "e4268f43-d67c-447e-99a3-d3395c9ca035"
      },
      "source": [
        "Guardar en formato csv"
      ]
    },
    {
      "cell_type": "code",
      "source": [
        "categoriasdf.coalesce(1).write.format(\"csv\").option(\"header\", \"true\").option(\"delimiter\", \";\").save(\"clientes4\")"
      ],
      "metadata": {
        "id": "vAGybKWRZsI9"
      },
      "id": "vAGybKWRZsI9",
      "execution_count": null,
      "outputs": []
    },
    {
      "cell_type": "code",
      "source": [
        "ventasdf.coalesce(1).write.format(\"csv\").option(\"header\", \"true\").option(\"delimiter\", \";\").save(\"clientes5\")"
      ],
      "metadata": {
        "id": "yxZH4hT-aFdH"
      },
      "id": "yxZH4hT-aFdH",
      "execution_count": null,
      "outputs": []
    },
    {
      "cell_type": "code",
      "execution_count": null,
      "id": "5409ea96-124a-49b2-b371-923e0ea05c3a",
      "metadata": {
        "id": "5409ea96-124a-49b2-b371-923e0ea05c3a"
      },
      "outputs": [],
      "source": [
        "productosdf.coalesce(1).write.format(\"csv\").option(\"header\", \"true\").option(\"delimiter\", \";\").save(\"clientes3\")"
      ]
    },
    {
      "cell_type": "markdown",
      "id": "9152b919-2911-4ab3-8a44-af56db3a3a0c",
      "metadata": {
        "tags": [],
        "id": "9152b919-2911-4ab3-8a44-af56db3a3a0c"
      },
      "source": [
        "### Data Grupal"
      ]
    },
    {
      "cell_type": "markdown",
      "id": "74b4932e-e7e7-4f44-8650-b7e351a5e4b2",
      "metadata": {
        "id": "74b4932e-e7e7-4f44-8650-b7e351a5e4b2"
      },
      "source": [
        "Leer los archivos csv"
      ]
    },
    {
      "cell_type": "markdown",
      "id": "f0e9046c-dee6-4d8f-9b08-0cec4ef11e12",
      "metadata": {
        "tags": [],
        "id": "f0e9046c-dee6-4d8f-9b08-0cec4ef11e12"
      },
      "source": [
        "### Categoria"
      ]
    },
    {
      "cell_type": "code",
      "execution_count": null,
      "id": "d3e5b873-376e-47cf-b5a5-b91c85be24e4",
      "metadata": {
        "id": "d3e5b873-376e-47cf-b5a5-b91c85be24e4"
      },
      "outputs": [],
      "source": [
        "categoriasdf= spark.read.format(\"csv\").option(\"header\", \"true\").option(\"delimiter\", \";\").load(\"/content/clientes4\")"
      ]
    },
    {
      "cell_type": "code",
      "execution_count": null,
      "id": "b75affcb-e32a-4628-8b99-6bb99765db5e",
      "metadata": {
        "colab": {
          "base_uri": "https://localhost:8080/"
        },
        "id": "b75affcb-e32a-4628-8b99-6bb99765db5e",
        "outputId": "f059a079-16a1-4c4d-f8b7-d3c7e22ad9de"
      },
      "outputs": [
        {
          "output_type": "stream",
          "name": "stdout",
          "text": [
            "+------------+-------------------+\n",
            "|id_categoria|             nombre|\n",
            "+------------+-------------------+\n",
            "|          10|             Pastas|\n",
            "|          11|              Arroz|\n",
            "|          12|Productos enlatados|\n",
            "+------------+-------------------+\n",
            "\n"
          ]
        }
      ],
      "source": [
        "categoriasdf.show(27)"
      ]
    },
    {
      "cell_type": "markdown",
      "id": "432625e3-4350-43e1-a47f-0de5a572e13a",
      "metadata": {
        "tags": [],
        "id": "432625e3-4350-43e1-a47f-0de5a572e13a"
      },
      "source": [
        "### Ventas"
      ]
    },
    {
      "cell_type": "code",
      "execution_count": null,
      "id": "39c1e364-95ad-4784-af55-15a5092ba293",
      "metadata": {
        "id": "39c1e364-95ad-4784-af55-15a5092ba293"
      },
      "outputs": [],
      "source": [
        "ventasdf= spark.read.format(\"csv\").option(\"header\", \"true\").option(\"delimiter\", \";\").load(\"/content/clientes5\")"
      ]
    },
    {
      "cell_type": "code",
      "execution_count": null,
      "id": "7ec54999-a764-4c92-8efe-f432e48a7678",
      "metadata": {
        "colab": {
          "base_uri": "https://localhost:8080/"
        },
        "id": "7ec54999-a764-4c92-8efe-f432e48a7678",
        "outputId": "3f8d5d3d-ffc3-4082-aa9a-5bbc1a7faca8"
      },
      "outputs": [
        {
          "output_type": "stream",
          "name": "stdout",
          "text": [
            "+--------+-----------+--------+----------+\n",
            "|id_venta|id_producto|cantidad|     fecha|\n",
            "+--------+-----------+--------+----------+\n",
            "|     310|         31|       2|10-06-2023|\n",
            "|     311|         31|       1|11-06-2023|\n",
            "|     320|         32|       3|12-06-2023|\n",
            "|     321|         32|       2|13-06-2023|\n",
            "|     330|         33|       4|14-06-2023|\n",
            "|     331|         33|       1|15-06-2023|\n",
            "|     340|         34|       2|16-06-2023|\n",
            "|     341|         34|       4|17-06-2023|\n",
            "|     350|         35|       2|18-06-2023|\n",
            "|     351|         35|       5|19-06-2023|\n",
            "|     360|         36|       4|20-06-2023|\n",
            "|     361|         36|       2|21-06-2023|\n",
            "|     370|         37|       1|22-06-2023|\n",
            "|     371|         37|       3|23-06-2023|\n",
            "|     380|         38|       1|24-06-2023|\n",
            "|     381|         38|       2|25-06-2023|\n",
            "|     390|         39|       3|26-06-2023|\n",
            "|     391|         39|       6|27-06-2023|\n",
            "|     400|         40|       5|28-06-2023|\n",
            "|     401|         40|       4|29-06-2023|\n",
            "+--------+-----------+--------+----------+\n",
            "\n"
          ]
        }
      ],
      "source": [
        "ventasdf.show(27)"
      ]
    },
    {
      "cell_type": "markdown",
      "id": "b7380ea5-1850-4b12-b1b3-1e0cdd0dc373",
      "metadata": {
        "tags": [],
        "id": "b7380ea5-1850-4b12-b1b3-1e0cdd0dc373"
      },
      "source": [
        "### Productos"
      ]
    },
    {
      "cell_type": "code",
      "execution_count": null,
      "id": "23120324-4f5a-4d56-b60a-38f08657121b",
      "metadata": {
        "id": "23120324-4f5a-4d56-b60a-38f08657121b"
      },
      "outputs": [],
      "source": [
        "productosdf= spark.read.format(\"csv\").option(\"header\", \"true\").option(\"delimiter\", \";\").load(\"/content/clientes3\")"
      ]
    },
    {
      "cell_type": "code",
      "execution_count": null,
      "id": "f4b4f247-d00e-4024-9e75-32554fd6f52a",
      "metadata": {
        "colab": {
          "base_uri": "https://localhost:8080/"
        },
        "id": "f4b4f247-d00e-4024-9e75-32554fd6f52a",
        "outputId": "00e26050-bd0e-45f4-e749-808633b6a0cf"
      },
      "outputs": [
        {
          "output_type": "stream",
          "name": "stdout",
          "text": [
            "+-----------+------------------+------------+\n",
            "|id_producto|            nombre|id_categoria|\n",
            "+-----------+------------------+------------+\n",
            "|         31|        fideo laso|          10|\n",
            "|         32|        fideo codo|          10|\n",
            "|         33|    fideo macarron|          10|\n",
            "|         34|        Arroz Roma|          11|\n",
            "|         35|        Arroz Ribe|          11|\n",
            "|         36|    Arroz integral|          11|\n",
            "|         37|Sardinas enlatadas|          12|\n",
            "|         38|     Atún enlatado|          12|\n",
            "|         39|Duraznos enlatados|          12|\n",
            "|         40|    Maíz enlatados|          12|\n",
            "+-----------+------------------+------------+\n",
            "\n"
          ]
        }
      ],
      "source": [
        "productosdf.show(27)"
      ]
    },
    {
      "cell_type": "markdown",
      "id": "8e9bdae8-7ab7-4f4d-8485-00270d2d1e15",
      "metadata": {
        "tags": [],
        "id": "8e9bdae8-7ab7-4f4d-8485-00270d2d1e15"
      },
      "source": [
        "### Operaciones"
      ]
    },
    {
      "cell_type": "code",
      "execution_count": null,
      "id": "e29d7edb-64f8-44a3-b9d1-0c578e3a87aa",
      "metadata": {
        "colab": {
          "base_uri": "https://localhost:8080/"
        },
        "id": "e29d7edb-64f8-44a3-b9d1-0c578e3a87aa",
        "outputId": "ea4c1bd6-d74a-49fa-a2c1-fc61139d8b36"
      },
      "outputs": [
        {
          "output_type": "execute_result",
          "data": {
            "text/plain": [
              "10"
            ]
          },
          "metadata": {},
          "execution_count": 22
        }
      ],
      "source": [
        "#Calcula el número total de registros en cada DataFrame utilizando el método count().\n",
        "productosdf.count()"
      ]
    },
    {
      "cell_type": "code",
      "execution_count": null,
      "id": "90397390-f486-4f4e-a7f3-f8b0c36c5d27",
      "metadata": {
        "colab": {
          "base_uri": "https://localhost:8080/"
        },
        "id": "90397390-f486-4f4e-a7f3-f8b0c36c5d27",
        "outputId": "7624a4ee-850f-43cc-a609-204457b85274"
      },
      "outputs": [
        {
          "output_type": "execute_result",
          "data": {
            "text/plain": [
              "3"
            ]
          },
          "metadata": {},
          "execution_count": 23
        }
      ],
      "source": [
        "categoriasdf.count()"
      ]
    },
    {
      "cell_type": "code",
      "execution_count": null,
      "id": "13003ce9-8da3-4f77-ab63-493ca3c5e0ef",
      "metadata": {
        "colab": {
          "base_uri": "https://localhost:8080/"
        },
        "id": "13003ce9-8da3-4f77-ab63-493ca3c5e0ef",
        "outputId": "2939f6b3-c470-4f76-d1c7-da2836543e4a"
      },
      "outputs": [
        {
          "output_type": "execute_result",
          "data": {
            "text/plain": [
              "20"
            ]
          },
          "metadata": {},
          "execution_count": 24
        }
      ],
      "source": [
        "ventasdf.count()"
      ]
    },
    {
      "cell_type": "code",
      "execution_count": null,
      "id": "c474ae07-f24d-4bfc-9cf3-e7d9f4484a02",
      "metadata": {
        "colab": {
          "base_uri": "https://localhost:8080/"
        },
        "id": "c474ae07-f24d-4bfc-9cf3-e7d9f4484a02",
        "outputId": "f6206046-99af-4272-a35e-73e886ce91ee"
      },
      "outputs": [
        {
          "output_type": "stream",
          "name": "stdout",
          "text": [
            "+--------+-----------+--------+-----+\n",
            "|id_venta|id_producto|cantidad|fecha|\n",
            "+--------+-----------+--------+-----+\n",
            "+--------+-----------+--------+-----+\n",
            "\n"
          ]
        }
      ],
      "source": [
        "#Filtra \"ventas_df\" para mostrar solo las ventas donde la cantidad sea mayor que 10.\n",
        "ventasdf.filter(ventasdf[\"cantidad\"]>10).show()"
      ]
    },
    {
      "cell_type": "code",
      "execution_count": null,
      "id": "6eef5757-e33a-4392-ad87-ea4800b89752",
      "metadata": {
        "colab": {
          "base_uri": "https://localhost:8080/"
        },
        "id": "6eef5757-e33a-4392-ad87-ea4800b89752",
        "outputId": "98681136-c590-4e46-e034-0e9627049675"
      },
      "outputs": [
        {
          "output_type": "stream",
          "name": "stdout",
          "text": [
            "+-----------+------------------+------------+\n",
            "|id_producto|            nombre|id_categoria|\n",
            "+-----------+------------------+------------+\n",
            "|         35|        Arroz Ribe|          11|\n",
            "|         34|        Arroz Roma|          11|\n",
            "|         36|    Arroz integral|          11|\n",
            "|         38|     Atún enlatado|          12|\n",
            "|         39|Duraznos enlatados|          12|\n",
            "|         40|    Maíz enlatados|          12|\n",
            "|         37|Sardinas enlatadas|          12|\n",
            "|         32|        fideo codo|          10|\n",
            "|         31|        fideo laso|          10|\n",
            "|         33|    fideo macarron|          10|\n",
            "+-----------+------------------+------------+\n",
            "\n"
          ]
        }
      ],
      "source": [
        "#Ordena \"productos_df\" en orden ascendente según el nombre de producto.\n",
        "productosdf = productosdf.orderBy(\"nombre\")\n",
        "\n",
        "# Mostrar el DataFrame ordenado\n",
        "productosdf.show()\n"
      ]
    },
    {
      "cell_type": "code",
      "source": [
        "from pyspark.sql import functions as F"
      ],
      "metadata": {
        "id": "T4Fnd-MdgHsr"
      },
      "id": "T4Fnd-MdgHsr",
      "execution_count": null,
      "outputs": []
    },
    {
      "cell_type": "code",
      "execution_count": null,
      "id": "245f6b31-9471-4411-9a6a-cfc7b891fad4",
      "metadata": {
        "colab": {
          "base_uri": "https://localhost:8080/"
        },
        "id": "245f6b31-9471-4411-9a6a-cfc7b891fad4",
        "outputId": "87c8b27b-e867-42a0-b462-50f4df198e2c"
      },
      "outputs": [
        {
          "output_type": "stream",
          "name": "stdout",
          "text": [
            "+-------------------+\n",
            "|suma_total_cantidad|\n",
            "+-------------------+\n",
            "|               57.0|\n",
            "+-------------------+\n",
            "\n"
          ]
        }
      ],
      "source": [
        "#Calcula la suma total de la cantidad vendida en \"ventas_df\" utilizando la función sum().\n",
        "suma_cantidad = ventasdf.select(F.sum(\"cantidad\")).first()[0]\n",
        "resultado_df = spark.createDataFrame([(suma_cantidad,)], [\"suma_total_cantidad\"])\n",
        "resultado_df.show()"
      ]
    },
    {
      "cell_type": "markdown",
      "id": "13684543-45b8-4079-a7d6-999a9155746e",
      "metadata": {
        "tags": [],
        "id": "13684543-45b8-4079-a7d6-999a9155746e"
      },
      "source": [
        "### Joins entre Dataframes"
      ]
    },
    {
      "cell_type": "code",
      "execution_count": null,
      "id": "2aa0d80b-f789-49ce-ab14-ab56289204ed",
      "metadata": {
        "colab": {
          "base_uri": "https://localhost:8080/"
        },
        "id": "2aa0d80b-f789-49ce-ab14-ab56289204ed",
        "outputId": "d7e80511-93b7-4114-94f0-4c04b1955e5c"
      },
      "outputs": [
        {
          "output_type": "stream",
          "name": "stdout",
          "text": [
            "+-----------+------------------+------------+--------+-----------+--------+----------+\n",
            "|id_producto|            nombre|id_categoria|id_venta|id_producto|cantidad|     fecha|\n",
            "+-----------+------------------+------------+--------+-----------+--------+----------+\n",
            "|         31|        fideo laso|          10|     310|         31|       2|10-06-2023|\n",
            "|         31|        fideo laso|          10|     311|         31|       1|11-06-2023|\n",
            "|         32|        fideo codo|          10|     320|         32|       3|12-06-2023|\n",
            "|         32|        fideo codo|          10|     321|         32|       2|13-06-2023|\n",
            "|         33|    fideo macarron|          10|     330|         33|       4|14-06-2023|\n",
            "|         33|    fideo macarron|          10|     331|         33|       1|15-06-2023|\n",
            "|         34|        Arroz Roma|          11|     340|         34|       2|16-06-2023|\n",
            "|         34|        Arroz Roma|          11|     341|         34|       4|17-06-2023|\n",
            "|         35|        Arroz Ribe|          11|     350|         35|       2|18-06-2023|\n",
            "|         35|        Arroz Ribe|          11|     351|         35|       5|19-06-2023|\n",
            "|         36|    Arroz integral|          11|     360|         36|       4|20-06-2023|\n",
            "|         36|    Arroz integral|          11|     361|         36|       2|21-06-2023|\n",
            "|         37|Sardinas enlatadas|          12|     370|         37|       1|22-06-2023|\n",
            "|         37|Sardinas enlatadas|          12|     371|         37|       3|23-06-2023|\n",
            "|         38|     Atún enlatado|          12|     380|         38|       1|24-06-2023|\n",
            "|         38|     Atún enlatado|          12|     381|         38|       2|25-06-2023|\n",
            "|         39|Duraznos enlatados|          12|     390|         39|       3|26-06-2023|\n",
            "|         39|Duraznos enlatados|          12|     391|         39|       6|27-06-2023|\n",
            "|         40|    Maíz enlatados|          12|     400|         40|       5|28-06-2023|\n",
            "|         40|    Maíz enlatados|          12|     401|         40|       4|29-06-2023|\n",
            "+-----------+------------------+------------+--------+-----------+--------+----------+\n",
            "\n"
          ]
        }
      ],
      "source": [
        "#Realiza un inner join entre \"ventas_df\" y \"productos_df\" utilizando la columna \"idProducto\" como clave de join.\n",
        "ventas_productos_df = productosdf.join(ventasdf, productosdf[\"id_Producto\"] == ventasdf[\"id_Producto\"], \"outer\").show()"
      ]
    },
    {
      "cell_type": "code",
      "execution_count": null,
      "id": "87198c0d-dd79-4db3-bb02-d124e51f6c9a",
      "metadata": {
        "colab": {
          "base_uri": "https://localhost:8080/"
        },
        "id": "87198c0d-dd79-4db3-bb02-d124e51f6c9a",
        "outputId": "252adb77-9276-421a-959f-c86075895bcc"
      },
      "outputs": [
        {
          "output_type": "stream",
          "name": "stdout",
          "text": [
            "+-----------+------------------+------------+------------+-------------------+\n",
            "|id_producto|            nombre|id_categoria|id_categoria|             nombre|\n",
            "+-----------+------------------+------------+------------+-------------------+\n",
            "|         31|        fideo laso|          10|          10|             Pastas|\n",
            "|         32|        fideo codo|          10|          10|             Pastas|\n",
            "|         33|    fideo macarron|          10|          10|             Pastas|\n",
            "|         34|        Arroz Roma|          11|          11|              Arroz|\n",
            "|         35|        Arroz Ribe|          11|          11|              Arroz|\n",
            "|         36|    Arroz integral|          11|          11|              Arroz|\n",
            "|         37|Sardinas enlatadas|          12|          12|Productos enlatados|\n",
            "|         38|     Atún enlatado|          12|          12|Productos enlatados|\n",
            "|         39|Duraznos enlatados|          12|          12|Productos enlatados|\n",
            "|         40|    Maíz enlatados|          12|          12|Productos enlatados|\n",
            "+-----------+------------------+------------+------------+-------------------+\n",
            "\n"
          ]
        }
      ],
      "source": [
        "#Realiza un inner join entre \"productos_df\" y \"categorias_df\" utilizando la columna \"idCategoria\" como clave de join.\n",
        "productos_categoriasdf = productosdf.join(categoriasdf, productosdf[\"id_Categoria\"] == categoriasdf[\"id_Categoria\"], \"outer\").show()"
      ]
    },
    {
      "cell_type": "code",
      "execution_count": null,
      "id": "c036d539-2f6b-4295-95f5-cedb0b79b268",
      "metadata": {
        "colab": {
          "base_uri": "https://localhost:8080/"
        },
        "id": "c036d539-2f6b-4295-95f5-cedb0b79b268",
        "outputId": "94ad57de-132e-4dae-8e77-dc7fdd4a5527"
      },
      "outputs": [
        {
          "output_type": "stream",
          "name": "stdout",
          "text": [
            "Máximo de la cantidad vendida: 6\n"
          ]
        }
      ],
      "source": [
        "#Calcula el máximo y mínimo de la cantidad vendida en \"ventas_df\" utilizando las funciones max() y min(), respectivamente.\n",
        "max_cantidad = ventasdf.select(F.max(\"cantidad\")).first()[0]\n",
        "print(\"Máximo de la cantidad vendida:\", max_cantidad)"
      ]
    },
    {
      "cell_type": "code",
      "execution_count": null,
      "id": "df14e8ea-88e2-4ab9-b4da-c6168eca49b1",
      "metadata": {
        "colab": {
          "base_uri": "https://localhost:8080/"
        },
        "id": "df14e8ea-88e2-4ab9-b4da-c6168eca49b1",
        "outputId": "6ce4e9d5-45e2-4523-8880-e0eee202bc1d"
      },
      "outputs": [
        {
          "output_type": "stream",
          "name": "stdout",
          "text": [
            "Mínimo de la cantidad vendida: 1\n"
          ]
        }
      ],
      "source": [
        "min_cantidad = ventasdf.select(F.min(\"cantidad\")).first()[0]\n",
        "print(\"Mínimo de la cantidad vendida:\", min_cantidad)"
      ]
    },
    {
      "cell_type": "code",
      "execution_count": null,
      "id": "df54b09a-8dd1-4607-b01a-fea9615c4e20",
      "metadata": {
        "colab": {
          "base_uri": "https://localhost:8080/"
        },
        "id": "df54b09a-8dd1-4607-b01a-fea9615c4e20",
        "outputId": "64133c70-922a-494e-c957-02da08cbd6c4"
      },
      "outputs": [
        {
          "output_type": "stream",
          "name": "stdout",
          "text": [
            "Promedio de la cantidad vendida: 2.85\n"
          ]
        }
      ],
      "source": [
        "#Calcula el promedio de la cantidad vendida en \"ventas_df\" utilizando la función avg().\n",
        "promedio_cantidad = ventasdf.select(F.avg(\"cantidad\")).first()[0]\n",
        "print(\"Promedio de la cantidad vendida:\", promedio_cantidad)"
      ]
    },
    {
      "cell_type": "code",
      "execution_count": null,
      "id": "1cbb0298-e776-44bd-b765-caa7c4af7fc0",
      "metadata": {
        "colab": {
          "base_uri": "https://localhost:8080/"
        },
        "id": "1cbb0298-e776-44bd-b765-caa7c4af7fc0",
        "outputId": "70a34172-77bc-4ef0-c5e5-5af4480ade59"
      },
      "outputs": [
        {
          "output_type": "stream",
          "name": "stdout",
          "text": [
            "+-----------+----------------------+\n",
            "|id_producto|total_cantidad_vendida|\n",
            "+-----------+----------------------+\n",
            "|         34|                   6.0|\n",
            "|         35|                   7.0|\n",
            "|         31|                   3.0|\n",
            "|         38|                   3.0|\n",
            "|         40|                   9.0|\n",
            "|         33|                   5.0|\n",
            "|         32|                   5.0|\n",
            "|         36|                   6.0|\n",
            "|         37|                   4.0|\n",
            "|         39|                   9.0|\n",
            "+-----------+----------------------+\n",
            "\n"
          ]
        }
      ],
      "source": [
        "#Agrupa \"ventas_df\" por el idProducto y calcula la suma de la cantidad vendida en cada grupo utilizando el método groupBy() y la función sum().\n",
        "ventas_agrupadas = ventasdf.groupBy(\"id_producto\").agg(F.sum(\"cantidad\").alias(\"total_cantidad_vendida\"))\n",
        "ventas_agrupadas.show()"
      ]
    },
    {
      "cell_type": "code",
      "source": [
        "# Convertir la columna 'fecha' a tipo DateType\n",
        "\n",
        "ventasdf = ventasdf.withColumn(\"fecha\", F.to_date(\"fecha\", \"dd-MM-yyyy\"))"
      ],
      "metadata": {
        "id": "Y-EFdj4SkzkQ"
      },
      "id": "Y-EFdj4SkzkQ",
      "execution_count": null,
      "outputs": []
    },
    {
      "cell_type": "code",
      "execution_count": null,
      "id": "c404f138-3691-49d2-bccf-2c9f14788ef3",
      "metadata": {
        "colab": {
          "base_uri": "https://localhost:8080/"
        },
        "id": "c404f138-3691-49d2-bccf-2c9f14788ef3",
        "outputId": "7acceb26-1e19-477c-f483-14ba356df10b"
      },
      "outputs": [
        {
          "output_type": "stream",
          "name": "stdout",
          "text": [
            "+--------+-----------+--------+----------+\n",
            "|id_venta|id_producto|cantidad|     fecha|\n",
            "+--------+-----------+--------+----------+\n",
            "|     391|         39|       6|2023-06-27|\n",
            "+--------+-----------+--------+----------+\n",
            "\n"
          ]
        }
      ],
      "source": [
        "#Filtra \"ventas_df\" para mostrar solo las ventas donde la cantidad sea mayor que 5 y la fecha sea posterior a \"2023-01-15\".\n",
        "ventas_filtradas = ventasdf.filter((ventasdf[\"cantidad\"] > 5) & (ventasdf[\"fecha\"] > F.to_date(F.lit(\"2023-01-15\"), \"yyyy-MM-dd\")))\n",
        "ventas_filtradas.show()"
      ]
    },
    {
      "cell_type": "code",
      "execution_count": null,
      "id": "abcdd465-db4c-4711-a69c-feba1b615232",
      "metadata": {
        "colab": {
          "base_uri": "https://localhost:8080/"
        },
        "id": "abcdd465-db4c-4711-a69c-feba1b615232",
        "outputId": "75382bf4-7ee1-4bf4-9659-e2156d4ce342"
      },
      "outputs": [
        {
          "output_type": "stream",
          "name": "stdout",
          "text": [
            "+-----------+------+------------+\n",
            "|id_producto|nombre|id_categoria|\n",
            "+-----------+------+------------+\n",
            "+-----------+------+------------+\n",
            "\n"
          ]
        }
      ],
      "source": [
        "#Filtra \"productos_df\" para mostrar solo los productos de la categoría 3.\n",
        "productos_categoria_3 = productosdf.filter(productosdf[\"id_Categoria\"] == 3)\n",
        "productos_categoria_3.show()"
      ]
    },
    {
      "cell_type": "code",
      "execution_count": null,
      "id": "11f8f240-450d-4ce9-b7da-fcdb94d6a340",
      "metadata": {
        "colab": {
          "base_uri": "https://localhost:8080/"
        },
        "id": "11f8f240-450d-4ce9-b7da-fcdb94d6a340",
        "outputId": "9abc26fd-c4f2-4b79-d90a-3539ed71b87b"
      },
      "outputs": [
        {
          "output_type": "stream",
          "name": "stdout",
          "text": [
            "+--------+-----------+--------+----------+-----+\n",
            "|id_venta|id_producto|cantidad|     fecha|total|\n",
            "+--------+-----------+--------+----------+-----+\n",
            "|     310|         31|       2|2023-06-10|  4.0|\n",
            "|     311|         31|       1|2023-06-11|  2.0|\n",
            "|     320|         32|       3|2023-06-12|  6.0|\n",
            "|     321|         32|       2|2023-06-13|  4.0|\n",
            "|     330|         33|       4|2023-06-14|  8.0|\n",
            "|     331|         33|       1|2023-06-15|  2.0|\n",
            "|     340|         34|       2|2023-06-16|  4.0|\n",
            "|     341|         34|       4|2023-06-17|  8.0|\n",
            "|     350|         35|       2|2023-06-18|  4.0|\n",
            "|     351|         35|       5|2023-06-19| 10.0|\n",
            "|     360|         36|       4|2023-06-20|  8.0|\n",
            "|     361|         36|       2|2023-06-21|  4.0|\n",
            "|     370|         37|       1|2023-06-22|  2.0|\n",
            "|     371|         37|       3|2023-06-23|  6.0|\n",
            "|     380|         38|       1|2023-06-24|  2.0|\n",
            "|     381|         38|       2|2023-06-25|  4.0|\n",
            "|     390|         39|       3|2023-06-26|  6.0|\n",
            "|     391|         39|       6|2023-06-27| 12.0|\n",
            "|     400|         40|       5|2023-06-28| 10.0|\n",
            "|     401|         40|       4|2023-06-29|  8.0|\n",
            "+--------+-----------+--------+----------+-----+\n",
            "\n"
          ]
        }
      ],
      "source": [
        "#Agrega una nueva columna llamada \"total\" a \"ventas_df\" que sea el resultado de multiplicar la cantidad por 2.\n",
        "ventasdf_con_total = ventasdf.withColumn(\"total\", col(\"cantidad\") * 2)\n",
        "ventasdf_con_total.show()"
      ]
    },
    {
      "cell_type": "code",
      "execution_count": null,
      "id": "d65e356c-d91e-4354-9cc6-3974f1b6c310",
      "metadata": {
        "colab": {
          "base_uri": "https://localhost:8080/"
        },
        "id": "d65e356c-d91e-4354-9cc6-3974f1b6c310",
        "outputId": "53d87354-eb81-4856-d78a-c4fc12a22fa6"
      },
      "outputs": [
        {
          "output_type": "stream",
          "name": "stdout",
          "text": [
            "+--------+-----------+--------+----------+\n",
            "|id_venta|id_producto|cantidad|     fecha|\n",
            "+--------+-----------+--------+----------+\n",
            "|     310|         31|       2|2023-06-10|\n",
            "|     311|         31|       1|2023-06-11|\n",
            "|     320|         32|       3|2023-06-12|\n",
            "|     321|         32|       2|2023-06-13|\n",
            "|     330|         33|       4|2023-06-14|\n",
            "|     331|         33|       1|2023-06-15|\n",
            "|     340|         34|       2|2023-06-16|\n",
            "|     341|         34|       4|2023-06-17|\n",
            "|     350|         35|       2|2023-06-18|\n",
            "|     351|         35|       5|2023-06-19|\n",
            "|     360|         36|       4|2023-06-20|\n",
            "|     361|         36|       2|2023-06-21|\n",
            "|     370|         37|       1|2023-06-22|\n",
            "|     371|         37|       3|2023-06-23|\n",
            "|     380|         38|       1|2023-06-24|\n",
            "|     381|         38|       2|2023-06-25|\n",
            "|     390|         39|       3|2023-06-26|\n",
            "|     391|         39|       6|2023-06-27|\n",
            "|     400|         40|       5|2023-06-28|\n",
            "|     401|         40|       4|2023-06-29|\n",
            "+--------+-----------+--------+----------+\n",
            "\n"
          ]
        }
      ],
      "source": [
        "#Convierte la columna \"fecha\" de \"ventas_df\" al formato de fecha utilizando la función to_date().\n",
        "ventasdf_con_fecha = ventasdf.withColumn(\"fecha\", to_date(col(\"fecha\")))\n",
        "ventasdf_con_fecha.show()"
      ]
    },
    {
      "cell_type": "markdown",
      "id": "a6a7e2f4-d06b-42a0-bfa6-1f871d3ae348",
      "metadata": {
        "tags": [],
        "id": "a6a7e2f4-d06b-42a0-bfa6-1f871d3ae348"
      },
      "source": [
        "### Consultas SQL"
      ]
    },
    {
      "cell_type": "code",
      "execution_count": null,
      "id": "bb3e5138-5649-4556-9972-3d1dde6e5c88",
      "metadata": {
        "id": "bb3e5138-5649-4556-9972-3d1dde6e5c88"
      },
      "outputs": [],
      "source": [
        "#Registra los DataFrames \"ventas_df\", \"productos_df\" y \"categorias_df\" como tablas temporales utilizando el método createOrReplaceTempView().\n",
        "ventasdf.createOrReplaceTempView(\"ventas\")\n",
        "productosdf.createOrReplaceTempView(\"productos\")\n",
        "categoriasdf.createOrReplaceTempView(\"categorias\")"
      ]
    },
    {
      "cell_type": "code",
      "execution_count": null,
      "id": "ac098b96-8f94-4873-ad82-116e01120c76",
      "metadata": {
        "colab": {
          "base_uri": "https://localhost:8080/"
        },
        "id": "ac098b96-8f94-4873-ad82-116e01120c76",
        "outputId": "98743e44-cd2e-4687-b99d-a9b97cb2c0d5"
      },
      "outputs": [
        {
          "output_type": "stream",
          "name": "stdout",
          "text": [
            "+--------+-----------+--------+----------+\n",
            "|id_venta|id_producto|cantidad|     fecha|\n",
            "+--------+-----------+--------+----------+\n",
            "|     310|         31|       2|2023-06-10|\n",
            "|     311|         31|       1|2023-06-11|\n",
            "|     320|         32|       3|2023-06-12|\n",
            "|     321|         32|       2|2023-06-13|\n",
            "|     330|         33|       4|2023-06-14|\n",
            "|     331|         33|       1|2023-06-15|\n",
            "|     340|         34|       2|2023-06-16|\n",
            "|     341|         34|       4|2023-06-17|\n",
            "|     350|         35|       2|2023-06-18|\n",
            "|     351|         35|       5|2023-06-19|\n",
            "|     360|         36|       4|2023-06-20|\n",
            "|     361|         36|       2|2023-06-21|\n",
            "|     370|         37|       1|2023-06-22|\n",
            "|     371|         37|       3|2023-06-23|\n",
            "|     380|         38|       1|2023-06-24|\n",
            "|     381|         38|       2|2023-06-25|\n",
            "|     390|         39|       3|2023-06-26|\n",
            "|     391|         39|       6|2023-06-27|\n",
            "|     400|         40|       5|2023-06-28|\n",
            "|     401|         40|       4|2023-06-29|\n",
            "+--------+-----------+--------+----------+\n",
            "\n",
            "+-----------+------------------+------------+\n",
            "|id_producto|            nombre|id_categoria|\n",
            "+-----------+------------------+------------+\n",
            "|         35|        Arroz Ribe|          11|\n",
            "|         34|        Arroz Roma|          11|\n",
            "|         36|    Arroz integral|          11|\n",
            "|         38|     Atún enlatado|          12|\n",
            "|         39|Duraznos enlatados|          12|\n",
            "|         40|    Maíz enlatados|          12|\n",
            "|         37|Sardinas enlatadas|          12|\n",
            "|         32|        fideo codo|          10|\n",
            "|         31|        fideo laso|          10|\n",
            "|         33|    fideo macarron|          10|\n",
            "+-----------+------------------+------------+\n",
            "\n",
            "+------------+-------------------+\n",
            "|id_categoria|             nombre|\n",
            "+------------+-------------------+\n",
            "|          10|             Pastas|\n",
            "|          11|              Arroz|\n",
            "|          12|Productos enlatados|\n",
            "+------------+-------------------+\n",
            "\n"
          ]
        }
      ],
      "source": [
        "spark.sql(\"SELECT * FROM ventas\").show()\n",
        "spark.sql(\"SELECT * FROM productos\").show()\n",
        "spark.sql(\"SELECT * FROM categorias\").show()"
      ]
    },
    {
      "cell_type": "code",
      "source": [
        "# Consulta SQL para obtener la suma de la cantidad vendida por producto y categoría\n",
        "consulta_sql = \"\"\"\n",
        "    SELECT p.nombre AS producto, c.nombre AS categoria, SUM(v.cantidad) AS cantidad_total\n",
        "    FROM ventas v\n",
        "    JOIN productos p ON v.id_producto = p.id_producto\n",
        "    JOIN categorias c ON p.id_categoria = c.id_categoria\n",
        "    GROUP BY p.nombre, c.nombre\n",
        "\"\"\"\n",
        "\n",
        "# Ejecutar la consulta SQL y obtener el resultado en un DataFrame\n",
        "resultado = spark.sql(consulta_sql)\n",
        "\n",
        "# Mostrar el DataFrame resultante\n",
        "resultado.show()"
      ],
      "metadata": {
        "colab": {
          "base_uri": "https://localhost:8080/"
        },
        "id": "yTN554VuldyI",
        "outputId": "087de7af-421d-4a7a-c691-6ab3d307177d"
      },
      "id": "yTN554VuldyI",
      "execution_count": null,
      "outputs": [
        {
          "output_type": "stream",
          "name": "stdout",
          "text": [
            "+------------------+-------------------+--------------+\n",
            "|          producto|          categoria|cantidad_total|\n",
            "+------------------+-------------------+--------------+\n",
            "|        Arroz Ribe|              Arroz|           7.0|\n",
            "|     Atún enlatado|Productos enlatados|           3.0|\n",
            "|        fideo laso|             Pastas|           3.0|\n",
            "|Duraznos enlatados|Productos enlatados|           9.0|\n",
            "|    fideo macarron|             Pastas|           5.0|\n",
            "|    Maíz enlatados|Productos enlatados|           9.0|\n",
            "|Sardinas enlatadas|Productos enlatados|           4.0|\n",
            "|        Arroz Roma|              Arroz|           6.0|\n",
            "|        fideo codo|             Pastas|           5.0|\n",
            "|    Arroz integral|              Arroz|           6.0|\n",
            "+------------------+-------------------+--------------+\n",
            "\n"
          ]
        }
      ]
    },
    {
      "cell_type": "code",
      "execution_count": null,
      "id": "67acf44b-73cf-412d-b228-dfdb46b63d62",
      "metadata": {
        "colab": {
          "base_uri": "https://localhost:8080/"
        },
        "id": "67acf44b-73cf-412d-b228-dfdb46b63d62",
        "outputId": "37b7e38c-0745-46a4-9ffe-3adbfbb8e099"
      },
      "outputs": [
        {
          "output_type": "stream",
          "name": "stdout",
          "text": [
            "+--------+-----------+--------+----------+\n",
            "|id_venta|id_producto|cantidad|     fecha|\n",
            "+--------+-----------+--------+----------+\n",
            "|     310|         31|       2|2023-06-10|\n",
            "|     311|         31|       1|2023-06-11|\n",
            "|     320|         32|       3|2023-06-12|\n",
            "|     321|         32|       2|2023-06-13|\n",
            "|     330|         33|       4|2023-06-14|\n",
            "|     331|         33|       1|2023-06-15|\n",
            "|     340|         34|       2|2023-06-16|\n",
            "|     341|         34|       4|2023-06-17|\n",
            "|     350|         35|       2|2023-06-18|\n",
            "|     351|         35|       5|2023-06-19|\n",
            "|     360|         36|       4|2023-06-20|\n",
            "|     361|         36|       2|2023-06-21|\n",
            "|     370|         37|       1|2023-06-22|\n",
            "|     371|         37|       3|2023-06-23|\n",
            "|     380|         38|       1|2023-06-24|\n",
            "|     381|         38|       2|2023-06-25|\n",
            "|     390|         39|       3|2023-06-26|\n",
            "|     391|         39|       6|2023-06-27|\n",
            "|     400|         40|       5|2023-06-28|\n",
            "|     401|         40|       4|2023-06-29|\n",
            "+--------+-----------+--------+----------+\n",
            "only showing top 20 rows\n",
            "\n"
          ]
        }
      ],
      "source": [
        "#Combina \"ventas_df\" y \"productos_df\" utilizando el método union() para obtener un único DataFrame que contenga todas las ventas y productos.\n",
        "\n",
        "# Agrega una columna adicional a \"productos_df\" con valores nulos para que coincida con la estructura de \"ventas_df ya que necesitan ser iguales\"\n",
        "productosdf = productosdf.withColumn(\"id_venta\", lit(None))\n",
        "\n",
        "# Combina \"ventas_df\" y \"productos_df\" utilizando el método union()\n",
        "ventas_productos_df = ventasdf.union(productosdf)\n",
        "\n",
        "# Muestra el DataFrame resultante\n",
        "ventas_productos_df.show()"
      ]
    },
    {
      "cell_type": "code",
      "source": [
        "#Combina \"ventas_df\" y \"productos_df\" utilizando el método union() para obtener un único DataFrame que contenga todas las ventas y nombre de productos.\n",
        "# Realizar joins para obtener nombre de producto y categoría\n",
        "ventas_productos_df = ventasdf.join(productosdf, \"id_producto\", \"left\") \\\n",
        "    .join(categoriasdf, \"id_categoria\", \"left\") \\\n",
        "    .select(ventasdf[\"id_venta\"], productosdf[\"nombre\"], ventasdf[\"cantidad\"], ventasdf[\"fecha\"])\n",
        "# Mostrar el DataFrame resultante\n",
        "ventas_productos_df.show()\n"
      ],
      "metadata": {
        "colab": {
          "base_uri": "https://localhost:8080/"
        },
        "id": "rCzonH036GBn",
        "outputId": "5ed1419f-39bb-49eb-8ee4-4119406ad70f"
      },
      "id": "rCzonH036GBn",
      "execution_count": null,
      "outputs": [
        {
          "output_type": "stream",
          "name": "stdout",
          "text": [
            "+--------+------------------+--------+----------+\n",
            "|id_venta|            nombre|cantidad|     fecha|\n",
            "+--------+------------------+--------+----------+\n",
            "|     310|        fideo laso|       2|2023-06-10|\n",
            "|     311|        fideo laso|       1|2023-06-11|\n",
            "|     320|        fideo codo|       3|2023-06-12|\n",
            "|     321|        fideo codo|       2|2023-06-13|\n",
            "|     330|    fideo macarron|       4|2023-06-14|\n",
            "|     331|    fideo macarron|       1|2023-06-15|\n",
            "|     340|        Arroz Roma|       2|2023-06-16|\n",
            "|     341|        Arroz Roma|       4|2023-06-17|\n",
            "|     350|        Arroz Ribe|       2|2023-06-18|\n",
            "|     351|        Arroz Ribe|       5|2023-06-19|\n",
            "|     360|    Arroz integral|       4|2023-06-20|\n",
            "|     361|    Arroz integral|       2|2023-06-21|\n",
            "|     370|Sardinas enlatadas|       1|2023-06-22|\n",
            "|     371|Sardinas enlatadas|       3|2023-06-23|\n",
            "|     380|     Atún enlatado|       1|2023-06-24|\n",
            "|     381|     Atún enlatado|       2|2023-06-25|\n",
            "|     390|Duraznos enlatados|       3|2023-06-26|\n",
            "|     391|Duraznos enlatados|       6|2023-06-27|\n",
            "|     400|    Maíz enlatados|       5|2023-06-28|\n",
            "|     401|    Maíz enlatados|       4|2023-06-29|\n",
            "+--------+------------------+--------+----------+\n",
            "\n"
          ]
        }
      ]
    }
  ],
  "metadata": {
    "kernelspec": {
      "display_name": "Python 3 (ipykernel)",
      "language": "python",
      "name": "python3"
    },
    "language_info": {
      "codemirror_mode": {
        "name": "ipython",
        "version": 3
      },
      "file_extension": ".py",
      "mimetype": "text/x-python",
      "name": "python",
      "nbconvert_exporter": "python",
      "pygments_lexer": "ipython3",
      "version": "3.10.9"
    },
    "colab": {
      "provenance": []
    }
  },
  "nbformat": 4,
  "nbformat_minor": 5
}